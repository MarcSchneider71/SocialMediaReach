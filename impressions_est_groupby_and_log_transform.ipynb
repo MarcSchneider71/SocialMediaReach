{
 "cells": [
  {
   "cell_type": "markdown",
   "metadata": {},
   "source": [
    "# True Reach Estimator\n",
    "\n",
    "We are looking to build an estimator around instagram users true reach and impressions. This data is accessible through the business api but in Q1 2018 Instagram blocked influencer marketing teams from this endpoint. We are able to collect a sample of this data to see if there working correlations between currently public data and true reach/impressions. "
   ]
  },
  {
   "cell_type": "markdown",
   "metadata": {},
   "source": [
    "Data: the CSV we have contains one year worth of data from 5,000 influencer level Instagram users. "
   ]
  },
  {
   "cell_type": "markdown",
   "metadata": {},
   "source": [
    "## The goal: \n",
    "Given the public data points create an accurate estimate of each posts reach and impressions. The ideal would be as accurate as possible, but a 10% range will work for the business. "
   ]
  },
  {
   "cell_type": "markdown",
   "metadata": {},
   "source": [
    "## TRIAL 9 Group-By + Log Transform \n",
    "\n",
    "In this trial we will first normalize each users data to their central tendancies before creating coefficiencies just like Trial 4. However in this one we will perform a log transformation on the values to create a more normal distribution. "
   ]
  },
  {
   "cell_type": "code",
   "execution_count": 1,
   "metadata": {},
   "outputs": [],
   "source": [
    "import pandas as pd\n",
    "import numpy as np\n",
    "import statsmodels.api as sm\n",
    "from statsmodels.formula.api import ols\n",
    "from sklearn.metrics import mean_squared_error\n",
    "import matplotlib.pyplot as plt\n",
    "import seaborn as sns\n",
    "plt.style.use('seaborn')\n",
    "%matplotlib inline\n",
    "import warnings \n",
    "warnings.filterwarnings('ignore')"
   ]
  },
  {
   "cell_type": "markdown",
   "metadata": {},
   "source": [
    "Pull in the CSV file"
   ]
  },
  {
   "cell_type": "code",
   "execution_count": 2,
   "metadata": {},
   "outputs": [],
   "source": [
    "df = pd.read_csv('trial_4_groupby.csv')"
   ]
  },
  {
   "cell_type": "code",
   "execution_count": 3,
   "metadata": {},
   "outputs": [
    {
     "data": {
      "text/html": [
       "<div>\n",
       "<style scoped>\n",
       "    .dataframe tbody tr th:only-of-type {\n",
       "        vertical-align: middle;\n",
       "    }\n",
       "\n",
       "    .dataframe tbody tr th {\n",
       "        vertical-align: top;\n",
       "    }\n",
       "\n",
       "    .dataframe thead th {\n",
       "        text-align: right;\n",
       "    }\n",
       "</style>\n",
       "<table border=\"1\" class=\"dataframe\">\n",
       "  <thead>\n",
       "    <tr style=\"text-align: right;\">\n",
       "      <th></th>\n",
       "      <th>Unnamed: 0</th>\n",
       "      <th>followers</th>\n",
       "      <th>likes</th>\n",
       "      <th>comments</th>\n",
       "      <th>impressions</th>\n",
       "      <th>reach</th>\n",
       "    </tr>\n",
       "  </thead>\n",
       "  <tbody>\n",
       "    <tr>\n",
       "      <th>0</th>\n",
       "      <td>0</td>\n",
       "      <td>100276.0</td>\n",
       "      <td>1472.0</td>\n",
       "      <td>69.0</td>\n",
       "      <td>6209.0</td>\n",
       "      <td>5302.0</td>\n",
       "    </tr>\n",
       "    <tr>\n",
       "      <th>1</th>\n",
       "      <td>1</td>\n",
       "      <td>10299.0</td>\n",
       "      <td>562.0</td>\n",
       "      <td>11.0</td>\n",
       "      <td>710.0</td>\n",
       "      <td>574.0</td>\n",
       "    </tr>\n",
       "    <tr>\n",
       "      <th>2</th>\n",
       "      <td>2</td>\n",
       "      <td>40025.0</td>\n",
       "      <td>1600.0</td>\n",
       "      <td>133.0</td>\n",
       "      <td>3371.0</td>\n",
       "      <td>2789.0</td>\n",
       "    </tr>\n",
       "    <tr>\n",
       "      <th>3</th>\n",
       "      <td>3</td>\n",
       "      <td>22071.0</td>\n",
       "      <td>807.0</td>\n",
       "      <td>34.0</td>\n",
       "      <td>11333.0</td>\n",
       "      <td>8932.0</td>\n",
       "    </tr>\n",
       "    <tr>\n",
       "      <th>4</th>\n",
       "      <td>4</td>\n",
       "      <td>24390.0</td>\n",
       "      <td>1467.0</td>\n",
       "      <td>76.0</td>\n",
       "      <td>6198.0</td>\n",
       "      <td>4824.0</td>\n",
       "    </tr>\n",
       "  </tbody>\n",
       "</table>\n",
       "</div>"
      ],
      "text/plain": [
       "   Unnamed: 0  followers   likes  comments  impressions   reach\n",
       "0           0   100276.0  1472.0      69.0       6209.0  5302.0\n",
       "1           1    10299.0   562.0      11.0        710.0   574.0\n",
       "2           2    40025.0  1600.0     133.0       3371.0  2789.0\n",
       "3           3    22071.0   807.0      34.0      11333.0  8932.0\n",
       "4           4    24390.0  1467.0      76.0       6198.0  4824.0"
      ]
     },
     "execution_count": 3,
     "metadata": {},
     "output_type": "execute_result"
    }
   ],
   "source": [
    "df.head()"
   ]
  },
  {
   "cell_type": "markdown",
   "metadata": {},
   "source": [
    "Drop columns that are unneeded."
   ]
  },
  {
   "cell_type": "code",
   "execution_count": 4,
   "metadata": {},
   "outputs": [],
   "source": [
    "df = df.drop(['Unnamed: 0'], axis=1)"
   ]
  },
  {
   "cell_type": "code",
   "execution_count": 5,
   "metadata": {},
   "outputs": [
    {
     "data": {
      "text/html": [
       "<div>\n",
       "<style scoped>\n",
       "    .dataframe tbody tr th:only-of-type {\n",
       "        vertical-align: middle;\n",
       "    }\n",
       "\n",
       "    .dataframe tbody tr th {\n",
       "        vertical-align: top;\n",
       "    }\n",
       "\n",
       "    .dataframe thead th {\n",
       "        text-align: right;\n",
       "    }\n",
       "</style>\n",
       "<table border=\"1\" class=\"dataframe\">\n",
       "  <thead>\n",
       "    <tr style=\"text-align: right;\">\n",
       "      <th></th>\n",
       "      <th>followers</th>\n",
       "      <th>likes</th>\n",
       "      <th>comments</th>\n",
       "      <th>impressions</th>\n",
       "      <th>reach</th>\n",
       "    </tr>\n",
       "  </thead>\n",
       "  <tbody>\n",
       "    <tr>\n",
       "      <th>0</th>\n",
       "      <td>100276.0</td>\n",
       "      <td>1472.0</td>\n",
       "      <td>69.0</td>\n",
       "      <td>6209.0</td>\n",
       "      <td>5302.0</td>\n",
       "    </tr>\n",
       "    <tr>\n",
       "      <th>1</th>\n",
       "      <td>10299.0</td>\n",
       "      <td>562.0</td>\n",
       "      <td>11.0</td>\n",
       "      <td>710.0</td>\n",
       "      <td>574.0</td>\n",
       "    </tr>\n",
       "    <tr>\n",
       "      <th>2</th>\n",
       "      <td>40025.0</td>\n",
       "      <td>1600.0</td>\n",
       "      <td>133.0</td>\n",
       "      <td>3371.0</td>\n",
       "      <td>2789.0</td>\n",
       "    </tr>\n",
       "    <tr>\n",
       "      <th>3</th>\n",
       "      <td>22071.0</td>\n",
       "      <td>807.0</td>\n",
       "      <td>34.0</td>\n",
       "      <td>11333.0</td>\n",
       "      <td>8932.0</td>\n",
       "    </tr>\n",
       "    <tr>\n",
       "      <th>4</th>\n",
       "      <td>24390.0</td>\n",
       "      <td>1467.0</td>\n",
       "      <td>76.0</td>\n",
       "      <td>6198.0</td>\n",
       "      <td>4824.0</td>\n",
       "    </tr>\n",
       "  </tbody>\n",
       "</table>\n",
       "</div>"
      ],
      "text/plain": [
       "   followers   likes  comments  impressions   reach\n",
       "0   100276.0  1472.0      69.0       6209.0  5302.0\n",
       "1    10299.0   562.0      11.0        710.0   574.0\n",
       "2    40025.0  1600.0     133.0       3371.0  2789.0\n",
       "3    22071.0   807.0      34.0      11333.0  8932.0\n",
       "4    24390.0  1467.0      76.0       6198.0  4824.0"
      ]
     },
     "execution_count": 5,
     "metadata": {},
     "output_type": "execute_result"
    }
   ],
   "source": [
    "df.head()"
   ]
  },
  {
   "cell_type": "code",
   "execution_count": 6,
   "metadata": {},
   "outputs": [
    {
     "data": {
      "text/plain": [
       "5093"
      ]
     },
     "execution_count": 6,
     "metadata": {},
     "output_type": "execute_result"
    }
   ],
   "source": [
    "len(df)"
   ]
  },
  {
   "cell_type": "markdown",
   "metadata": {},
   "source": [
    "## Create histograms of our three variables to check for normality. "
   ]
  },
  {
   "cell_type": "code",
   "execution_count": 7,
   "metadata": {},
   "outputs": [
    {
     "data": {
      "image/png": "[encoded data removed]",
      "text/plain": [
       "<Figure size 432x288 with 1 Axes>"
      ]
     },
     "metadata": {
      "needs_background": "light"
     },
     "output_type": "display_data"
    },
    {
     "data": {
      "image/png": "[encoded data removed]",
      "text/plain": [
       "<Figure size 432x288 with 1 Axes>"
      ]
     },
     "metadata": {
      "needs_background": "light"
     },
     "output_type": "display_data"
    },
    {
     "data": {
      "image/png": "[encoded data removed]",
      "text/plain": [
       "<Figure size 432x288 with 1 Axes>"
      ]
     },
     "metadata": {
      "needs_background": "light"
     },
     "output_type": "display_data"
    }
   ],
   "source": [
    "sns.distplot(df.followers)\n",
    "plt.show()\n",
    "sns.distplot(df.comments)\n",
    "plt.show()\n",
    "sns.distplot(df.likes)\n",
    "plt.show()"
   ]
  },
  {
   "cell_type": "markdown",
   "metadata": {},
   "source": [
    "## Trial Anyone with very little reach will skew the  data. It's probably a bot. "
   ]
  },
  {
   "cell_type": "markdown",
   "metadata": {},
   "source": [
    "We have decided to remove rows that have less than 300 followers. This not only helps eliminate outliers but in the data collection there were many rows with zero followers and high numbers in reach. This data clearly is not correct "
   ]
  },
  {
   "cell_type": "code",
   "execution_count": 8,
   "metadata": {},
   "outputs": [],
   "source": [
    "df = df[(df['followers']>300)]"
   ]
  },
  {
   "cell_type": "markdown",
   "metadata": {},
   "source": [
    "Setting comments to greater than zero to avoid zero division errors"
   ]
  },
  {
   "cell_type": "code",
   "execution_count": 9,
   "metadata": {},
   "outputs": [],
   "source": [
    "df = df[(df['comments']>=1)]"
   ]
  },
  {
   "cell_type": "markdown",
   "metadata": {},
   "source": [
    "Remove rows with less than 100 likes to eliminate outliers."
   ]
  },
  {
   "cell_type": "code",
   "execution_count": 10,
   "metadata": {},
   "outputs": [],
   "source": [
    "df = df[(df['likes']>=100)]"
   ]
  },
  {
   "cell_type": "markdown",
   "metadata": {},
   "source": [
    "Remove wierd situations where there are more comments or likes than reach."
   ]
  },
  {
   "cell_type": "code",
   "execution_count": 11,
   "metadata": {},
   "outputs": [],
   "source": [
    "df = df.loc[(df.likes<df.reach)]\n",
    "df = df.loc[(df.comments<df.reach)]"
   ]
  },
  {
   "cell_type": "markdown",
   "metadata": {},
   "source": [
    "Now, what does our data look like? "
   ]
  },
  {
   "cell_type": "code",
   "execution_count": 12,
   "metadata": {},
   "outputs": [
    {
     "data": {
      "text/html": [
       "<div>\n",
       "<style scoped>\n",
       "    .dataframe tbody tr th:only-of-type {\n",
       "        vertical-align: middle;\n",
       "    }\n",
       "\n",
       "    .dataframe tbody tr th {\n",
       "        vertical-align: top;\n",
       "    }\n",
       "\n",
       "    .dataframe thead th {\n",
       "        text-align: right;\n",
       "    }\n",
       "</style>\n",
       "<table border=\"1\" class=\"dataframe\">\n",
       "  <thead>\n",
       "    <tr style=\"text-align: right;\">\n",
       "      <th></th>\n",
       "      <th>followers</th>\n",
       "      <th>likes</th>\n",
       "      <th>comments</th>\n",
       "      <th>impressions</th>\n",
       "      <th>reach</th>\n",
       "    </tr>\n",
       "  </thead>\n",
       "  <tbody>\n",
       "    <tr>\n",
       "      <th>count</th>\n",
       "      <td>3.964000e+03</td>\n",
       "      <td>3964.000000</td>\n",
       "      <td>3964.000000</td>\n",
       "      <td>3964.000000</td>\n",
       "      <td>3964.000000</td>\n",
       "    </tr>\n",
       "    <tr>\n",
       "      <th>mean</th>\n",
       "      <td>3.129303e+04</td>\n",
       "      <td>1154.968971</td>\n",
       "      <td>46.018668</td>\n",
       "      <td>10488.076186</td>\n",
       "      <td>8247.674067</td>\n",
       "    </tr>\n",
       "    <tr>\n",
       "      <th>std</th>\n",
       "      <td>8.305952e+04</td>\n",
       "      <td>2652.701190</td>\n",
       "      <td>64.735364</td>\n",
       "      <td>28801.698750</td>\n",
       "      <td>22151.026399</td>\n",
       "    </tr>\n",
       "    <tr>\n",
       "      <th>min</th>\n",
       "      <td>3.010000e+02</td>\n",
       "      <td>100.000000</td>\n",
       "      <td>1.000000</td>\n",
       "      <td>220.000000</td>\n",
       "      <td>165.000000</td>\n",
       "    </tr>\n",
       "    <tr>\n",
       "      <th>25%</th>\n",
       "      <td>3.046000e+03</td>\n",
       "      <td>248.000000</td>\n",
       "      <td>14.000000</td>\n",
       "      <td>1543.000000</td>\n",
       "      <td>1183.500000</td>\n",
       "    </tr>\n",
       "    <tr>\n",
       "      <th>50%</th>\n",
       "      <td>1.026950e+04</td>\n",
       "      <td>507.500000</td>\n",
       "      <td>27.000000</td>\n",
       "      <td>3243.000000</td>\n",
       "      <td>2555.000000</td>\n",
       "    </tr>\n",
       "    <tr>\n",
       "      <th>75%</th>\n",
       "      <td>2.728875e+04</td>\n",
       "      <td>1071.500000</td>\n",
       "      <td>54.000000</td>\n",
       "      <td>8410.250000</td>\n",
       "      <td>6744.500000</td>\n",
       "    </tr>\n",
       "    <tr>\n",
       "      <th>max</th>\n",
       "      <td>2.164278e+06</td>\n",
       "      <td>83472.000000</td>\n",
       "      <td>1322.000000</td>\n",
       "      <td>679341.000000</td>\n",
       "      <td>500225.000000</td>\n",
       "    </tr>\n",
       "  </tbody>\n",
       "</table>\n",
       "</div>"
      ],
      "text/plain": [
       "          followers         likes     comments    impressions          reach\n",
       "count  3.964000e+03   3964.000000  3964.000000    3964.000000    3964.000000\n",
       "mean   3.129303e+04   1154.968971    46.018668   10488.076186    8247.674067\n",
       "std    8.305952e+04   2652.701190    64.735364   28801.698750   22151.026399\n",
       "min    3.010000e+02    100.000000     1.000000     220.000000     165.000000\n",
       "25%    3.046000e+03    248.000000    14.000000    1543.000000    1183.500000\n",
       "50%    1.026950e+04    507.500000    27.000000    3243.000000    2555.000000\n",
       "75%    2.728875e+04   1071.500000    54.000000    8410.250000    6744.500000\n",
       "max    2.164278e+06  83472.000000  1322.000000  679341.000000  500225.000000"
      ]
     },
     "execution_count": 12,
     "metadata": {},
     "output_type": "execute_result"
    }
   ],
   "source": [
    "df.describe()"
   ]
  },
  {
   "cell_type": "markdown",
   "metadata": {},
   "source": [
    "# Perform Log Transform on the variables."
   ]
  },
  {
   "cell_type": "code",
   "execution_count": 13,
   "metadata": {},
   "outputs": [],
   "source": [
    "import numpy as np\n",
    "df[\"logfollowers\"] = np.log(df['followers'])\n",
    "df[\"logcomments\"] = np.log(df[\"comments\"])\n",
    "df[\"loglikes\"] = np.log(df[\"likes\"])"
   ]
  },
  {
   "cell_type": "markdown",
   "metadata": {},
   "source": [
    "# View histograms of new log transformed variables to check for normality"
   ]
  },
  {
   "cell_type": "code",
   "execution_count": 14,
   "metadata": {},
   "outputs": [
    {
     "data": {
      "image/png": "[encoded data removed]",
      "text/plain": [
       "<Figure size 432x288 with 1 Axes>"
      ]
     },
     "metadata": {
      "needs_background": "light"
     },
     "output_type": "display_data"
    },
    {
     "data": {
      "image/png": "[encoded data removed]",
      "text/plain": [
       "<Figure size 432x288 with 1 Axes>"
      ]
     },
     "metadata": {
      "needs_background": "light"
     },
     "output_type": "display_data"
    },
    {
     "data": {
      "image/png": "[encoded data removed]",
      "text/plain": [
       "<Figure size 432x288 with 1 Axes>"
      ]
     },
     "metadata": {
      "needs_background": "light"
     },
     "output_type": "display_data"
    }
   ],
   "source": [
    "sns.distplot(df.logfollowers)\n",
    "plt.show()\n",
    "sns.distplot(df.logcomments)\n",
    "plt.show()\n",
    "sns.distplot(df.loglikes)\n",
    "plt.show()"
   ]
  },
  {
   "cell_type": "code",
   "execution_count": 15,
   "metadata": {},
   "outputs": [
    {
     "data": {
      "text/html": [
       "<table class=\"simpletable\">\n",
       "<caption>OLS Regression Results</caption>\n",
       "<tr>\n",
       "  <th>Dep. Variable:</th>          <td>reach</td>      <th>  R-squared:         </th> <td>   0.329</td> \n",
       "</tr>\n",
       "<tr>\n",
       "  <th>Model:</th>                   <td>OLS</td>       <th>  Adj. R-squared:    </th> <td>   0.328</td> \n",
       "</tr>\n",
       "<tr>\n",
       "  <th>Method:</th>             <td>Least Squares</td>  <th>  F-statistic:       </th> <td>   645.8</td> \n",
       "</tr>\n",
       "<tr>\n",
       "  <th>Date:</th>             <td>Thu, 07 Mar 2019</td> <th>  Prob (F-statistic):</th>  <td>  0.00</td>  \n",
       "</tr>\n",
       "<tr>\n",
       "  <th>Time:</th>                 <td>19:59:29</td>     <th>  Log-Likelihood:    </th> <td> -44497.</td> \n",
       "</tr>\n",
       "<tr>\n",
       "  <th>No. Observations:</th>      <td>  3964</td>      <th>  AIC:               </th> <td>8.900e+04</td>\n",
       "</tr>\n",
       "<tr>\n",
       "  <th>Df Residuals:</th>          <td>  3960</td>      <th>  BIC:               </th> <td>8.903e+04</td>\n",
       "</tr>\n",
       "<tr>\n",
       "  <th>Df Model:</th>              <td>     3</td>      <th>                     </th>     <td> </td>    \n",
       "</tr>\n",
       "<tr>\n",
       "  <th>Covariance Type:</th>      <td>nonrobust</td>    <th>                     </th>     <td> </td>    \n",
       "</tr>\n",
       "</table>\n",
       "<table class=\"simpletable\">\n",
       "<tr>\n",
       "        <td></td>          <th>coef</th>     <th>std err</th>      <th>t</th>      <th>P>|t|</th>  <th>[0.025</th>    <th>0.975]</th>  \n",
       "</tr>\n",
       "<tr>\n",
       "  <th>Intercept</th>    <td>-6.934e+04</td> <td> 1905.748</td> <td>  -36.383</td> <td> 0.000</td> <td>-7.31e+04</td> <td>-6.56e+04</td>\n",
       "</tr>\n",
       "<tr>\n",
       "  <th>logfollowers</th> <td>  475.7973</td> <td>  245.816</td> <td>    1.936</td> <td> 0.053</td> <td>   -6.141</td> <td>  957.736</td>\n",
       "</tr>\n",
       "<tr>\n",
       "  <th>loglikes</th>     <td>  1.21e+04</td> <td>  440.243</td> <td>   27.474</td> <td> 0.000</td> <td> 1.12e+04</td> <td>  1.3e+04</td>\n",
       "</tr>\n",
       "<tr>\n",
       "  <th>logcomments</th>  <td>-1033.4805</td> <td>  390.987</td> <td>   -2.643</td> <td> 0.008</td> <td>-1800.035</td> <td> -266.926</td>\n",
       "</tr>\n",
       "</table>\n",
       "<table class=\"simpletable\">\n",
       "<tr>\n",
       "  <th>Omnibus:</th>       <td>6695.209</td> <th>  Durbin-Watson:     </th>  <td>   1.994</td>  \n",
       "</tr>\n",
       "<tr>\n",
       "  <th>Prob(Omnibus):</th>  <td> 0.000</td>  <th>  Jarque-Bera (JB):  </th> <td>7548949.352</td>\n",
       "</tr>\n",
       "<tr>\n",
       "  <th>Skew:</th>           <td>11.310</td>  <th>  Prob(JB):          </th>  <td>    0.00</td>  \n",
       "</tr>\n",
       "<tr>\n",
       "  <th>Kurtosis:</th>       <td>215.587</td> <th>  Cond. No.          </th>  <td>    78.6</td>  \n",
       "</tr>\n",
       "</table><br/><br/>Warnings:<br/>[1] Standard Errors assume that the covariance matrix of the errors is correctly specified."
      ],
      "text/plain": [
       "<class 'statsmodels.iolib.summary.Summary'>\n",
       "\"\"\"\n",
       "                            OLS Regression Results                            \n",
       "==============================================================================\n",
       "Dep. Variable:                  reach   R-squared:                       0.329\n",
       "Model:                            OLS   Adj. R-squared:                  0.328\n",
       "Method:                 Least Squares   F-statistic:                     645.8\n",
       "Date:                Thu, 07 Mar 2019   Prob (F-statistic):               0.00\n",
       "Time:                        19:59:29   Log-Likelihood:                -44497.\n",
       "No. Observations:                3964   AIC:                         8.900e+04\n",
       "Df Residuals:                    3960   BIC:                         8.903e+04\n",
       "Df Model:                           3                                         \n",
       "Covariance Type:            nonrobust                                         \n",
       "================================================================================\n",
       "                   coef    std err          t      P>|t|      [0.025      0.975]\n",
       "--------------------------------------------------------------------------------\n",
       "Intercept    -6.934e+04   1905.748    -36.383      0.000   -7.31e+04   -6.56e+04\n",
       "logfollowers   475.7973    245.816      1.936      0.053      -6.141     957.736\n",
       "loglikes       1.21e+04    440.243     27.474      0.000    1.12e+04     1.3e+04\n",
       "logcomments  -1033.4805    390.987     -2.643      0.008   -1800.035    -266.926\n",
       "==============================================================================\n",
       "Omnibus:                     6695.209   Durbin-Watson:                   1.994\n",
       "Prob(Omnibus):                  0.000   Jarque-Bera (JB):          7548949.352\n",
       "Skew:                          11.310   Prob(JB):                         0.00\n",
       "Kurtosis:                     215.587   Cond. No.                         78.6\n",
       "==============================================================================\n",
       "\n",
       "Warnings:\n",
       "[1] Standard Errors assume that the covariance matrix of the errors is correctly specified.\n",
       "\"\"\""
      ]
     },
     "execution_count": 15,
     "metadata": {},
     "output_type": "execute_result"
    }
   ],
   "source": [
    "lr_model = ols(formula='reach~logfollowers + loglikes + logcomments', data=df).fit()\n",
    "lr_model.summary()"
   ]
  },
  {
   "cell_type": "markdown",
   "metadata": {},
   "source": [
    "## Scatterplots \n",
    "- Next we looked at scatter plots of our data to further look for outliers and the correlation of our independent variable to our dependent variable. "
   ]
  },
  {
   "cell_type": "code",
   "execution_count": 16,
   "metadata": {},
   "outputs": [
    {
     "data": {
      "text/plain": [
       "Text(0.5, 1.0, 'Followers Correlation plot')"
      ]
     },
     "execution_count": 16,
     "metadata": {},
     "output_type": "execute_result"
    },
    {
     "data": {
      "image/png": "[encoded data removed]",
      "text/plain": [
       "<Figure size 720x432 with 1 Axes>"
      ]
     },
     "metadata": {
      "needs_background": "light"
     },
     "output_type": "display_data"
    }
   ],
   "source": [
    "plt.figure(figsize=(10,6))\n",
    "sns.scatterplot(x=df.followers, y=df.reach)\n",
    "plt.xlabel('logfollowers')\n",
    "plt.ylabel('reach')\n",
    "plt.title(\"Followers Correlation plot\")\n",
    "# plt.xlim(0,75_000)\n",
    "# plt.ylim(0, 1_000_000)"
   ]
  },
  {
   "cell_type": "code",
   "execution_count": 17,
   "metadata": {},
   "outputs": [
    {
     "data": {
      "text/plain": [
       "Text(0.5, 1.0, 'Likes Correlation plot')"
      ]
     },
     "execution_count": 17,
     "metadata": {},
     "output_type": "execute_result"
    },
    {
     "data": {
      "image/png": "[encoded data removed]",
      "text/plain": [
       "<Figure size 720x432 with 1 Axes>"
      ]
     },
     "metadata": {
      "needs_background": "light"
     },
     "output_type": "display_data"
    }
   ],
   "source": [
    "plt.figure(figsize=(10,6))\n",
    "sns.scatterplot(y=df.reach, x=df.likes, color='red')\n",
    "plt.xlabel('loglikes')\n",
    "plt.ylabel('reach')\n",
    "plt.title(\"Likes Correlation plot\")"
   ]
  },
  {
   "cell_type": "code",
   "execution_count": 18,
   "metadata": {},
   "outputs": [
    {
     "data": {
      "text/plain": [
       "Text(0.5, 1.0, ' Comments Correlation plot')"
      ]
     },
     "execution_count": 18,
     "metadata": {},
     "output_type": "execute_result"
    },
    {
     "data": {
      "image/png": "[encoded data removed]",
      "text/plain": [
       "<Figure size 720x432 with 1 Axes>"
      ]
     },
     "metadata": {
      "needs_background": "light"
     },
     "output_type": "display_data"
    }
   ],
   "source": [
    "plt.figure(figsize=(10,6))\n",
    "sns.scatterplot(y=df.reach, x=df.comments, color='orange')\n",
    "plt.xlabel('logcomments')\n",
    "plt.ylabel('reach')\n",
    "plt.title(\" Comments Correlation plot\")"
   ]
  },
  {
   "cell_type": "markdown",
   "metadata": {},
   "source": [
    "Now look at the data again to see if there are better stats. "
   ]
  },
  {
   "cell_type": "code",
   "execution_count": 19,
   "metadata": {},
   "outputs": [
    {
     "data": {
      "text/html": [
       "<div>\n",
       "<style scoped>\n",
       "    .dataframe tbody tr th:only-of-type {\n",
       "        vertical-align: middle;\n",
       "    }\n",
       "\n",
       "    .dataframe tbody tr th {\n",
       "        vertical-align: top;\n",
       "    }\n",
       "\n",
       "    .dataframe thead th {\n",
       "        text-align: right;\n",
       "    }\n",
       "</style>\n",
       "<table border=\"1\" class=\"dataframe\">\n",
       "  <thead>\n",
       "    <tr style=\"text-align: right;\">\n",
       "      <th></th>\n",
       "      <th>followers</th>\n",
       "      <th>likes</th>\n",
       "      <th>comments</th>\n",
       "      <th>impressions</th>\n",
       "      <th>reach</th>\n",
       "      <th>logfollowers</th>\n",
       "      <th>logcomments</th>\n",
       "      <th>loglikes</th>\n",
       "    </tr>\n",
       "  </thead>\n",
       "  <tbody>\n",
       "    <tr>\n",
       "      <th>count</th>\n",
       "      <td>3.964000e+03</td>\n",
       "      <td>3964.000000</td>\n",
       "      <td>3964.000000</td>\n",
       "      <td>3964.000000</td>\n",
       "      <td>3964.000000</td>\n",
       "      <td>3964.000000</td>\n",
       "      <td>3964.000000</td>\n",
       "      <td>3964.000000</td>\n",
       "    </tr>\n",
       "    <tr>\n",
       "      <th>mean</th>\n",
       "      <td>3.129303e+04</td>\n",
       "      <td>1154.968971</td>\n",
       "      <td>46.018668</td>\n",
       "      <td>10488.076186</td>\n",
       "      <td>8247.674067</td>\n",
       "      <td>9.149557</td>\n",
       "      <td>3.311034</td>\n",
       "      <td>6.337382</td>\n",
       "    </tr>\n",
       "    <tr>\n",
       "      <th>std</th>\n",
       "      <td>8.305952e+04</td>\n",
       "      <td>2652.701190</td>\n",
       "      <td>64.735364</td>\n",
       "      <td>28801.698750</td>\n",
       "      <td>22151.026399</td>\n",
       "      <td>1.580993</td>\n",
       "      <td>1.009953</td>\n",
       "      <td>1.064115</td>\n",
       "    </tr>\n",
       "    <tr>\n",
       "      <th>min</th>\n",
       "      <td>3.010000e+02</td>\n",
       "      <td>100.000000</td>\n",
       "      <td>1.000000</td>\n",
       "      <td>220.000000</td>\n",
       "      <td>165.000000</td>\n",
       "      <td>5.707110</td>\n",
       "      <td>0.000000</td>\n",
       "      <td>4.605170</td>\n",
       "    </tr>\n",
       "    <tr>\n",
       "      <th>25%</th>\n",
       "      <td>3.046000e+03</td>\n",
       "      <td>248.000000</td>\n",
       "      <td>14.000000</td>\n",
       "      <td>1543.000000</td>\n",
       "      <td>1183.500000</td>\n",
       "      <td>8.021584</td>\n",
       "      <td>2.639057</td>\n",
       "      <td>5.513429</td>\n",
       "    </tr>\n",
       "    <tr>\n",
       "      <th>50%</th>\n",
       "      <td>1.026950e+04</td>\n",
       "      <td>507.500000</td>\n",
       "      <td>27.000000</td>\n",
       "      <td>3243.000000</td>\n",
       "      <td>2555.000000</td>\n",
       "      <td>9.236934</td>\n",
       "      <td>3.295837</td>\n",
       "      <td>6.229496</td>\n",
       "    </tr>\n",
       "    <tr>\n",
       "      <th>75%</th>\n",
       "      <td>2.728875e+04</td>\n",
       "      <td>1071.500000</td>\n",
       "      <td>54.000000</td>\n",
       "      <td>8410.250000</td>\n",
       "      <td>6744.500000</td>\n",
       "      <td>10.214230</td>\n",
       "      <td>3.988984</td>\n",
       "      <td>6.976814</td>\n",
       "    </tr>\n",
       "    <tr>\n",
       "      <th>max</th>\n",
       "      <td>2.164278e+06</td>\n",
       "      <td>83472.000000</td>\n",
       "      <td>1322.000000</td>\n",
       "      <td>679341.000000</td>\n",
       "      <td>500225.000000</td>\n",
       "      <td>14.587597</td>\n",
       "      <td>7.186901</td>\n",
       "      <td>11.332267</td>\n",
       "    </tr>\n",
       "  </tbody>\n",
       "</table>\n",
       "</div>"
      ],
      "text/plain": [
       "          followers         likes     comments    impressions          reach  \\\n",
       "count  3.964000e+03   3964.000000  3964.000000    3964.000000    3964.000000   \n",
       "mean   3.129303e+04   1154.968971    46.018668   10488.076186    8247.674067   \n",
       "std    8.305952e+04   2652.701190    64.735364   28801.698750   22151.026399   \n",
       "min    3.010000e+02    100.000000     1.000000     220.000000     165.000000   \n",
       "25%    3.046000e+03    248.000000    14.000000    1543.000000    1183.500000   \n",
       "50%    1.026950e+04    507.500000    27.000000    3243.000000    2555.000000   \n",
       "75%    2.728875e+04   1071.500000    54.000000    8410.250000    6744.500000   \n",
       "max    2.164278e+06  83472.000000  1322.000000  679341.000000  500225.000000   \n",
       "\n",
       "       logfollowers  logcomments     loglikes  \n",
       "count   3964.000000  3964.000000  3964.000000  \n",
       "mean       9.149557     3.311034     6.337382  \n",
       "std        1.580993     1.009953     1.064115  \n",
       "min        5.707110     0.000000     4.605170  \n",
       "25%        8.021584     2.639057     5.513429  \n",
       "50%        9.236934     3.295837     6.229496  \n",
       "75%       10.214230     3.988984     6.976814  \n",
       "max       14.587597     7.186901    11.332267  "
      ]
     },
     "execution_count": 19,
     "metadata": {},
     "output_type": "execute_result"
    }
   ],
   "source": [
    "df.describe()  "
   ]
  },
  {
   "cell_type": "markdown",
   "metadata": {},
   "source": [
    "### Add Test Reach to the original data Frame to check for accuracy"
   ]
  },
  {
   "cell_type": "code",
   "execution_count": 20,
   "metadata": {},
   "outputs": [],
   "source": [
    "df['test_reach'] = lr_model.predict(df)"
   ]
  },
  {
   "cell_type": "code",
   "execution_count": 21,
   "metadata": {},
   "outputs": [],
   "source": [
    "df['reach_diff'] =  df['test_reach'] - df['reach']"
   ]
  },
  {
   "cell_type": "code",
   "execution_count": 22,
   "metadata": {},
   "outputs": [],
   "source": [
    "df['diff_ratio'] = (df.reach_diff / df.reach)*100"
   ]
  },
  {
   "cell_type": "code",
   "execution_count": 23,
   "metadata": {},
   "outputs": [
    {
     "data": {
      "image/png": "[encoded data removed]",
      "text/plain": [
       "<Figure size 432x288 with 1 Axes>"
      ]
     },
     "metadata": {
      "needs_background": "light"
     },
     "output_type": "display_data"
    }
   ],
   "source": [
    "x = plt.hist(df.diff_ratio, bins = 100)"
   ]
  },
  {
   "cell_type": "code",
   "execution_count": 24,
   "metadata": {},
   "outputs": [
    {
     "data": {
      "text/plain": [
       "18149.03299485673"
      ]
     },
     "execution_count": 24,
     "metadata": {},
     "output_type": "execute_result"
    }
   ],
   "source": [
    "mean_squared_error(df.reach, df.test_reach)**.5"
   ]
  },
  {
   "cell_type": "code",
   "execution_count": 25,
   "metadata": {},
   "outputs": [
    {
     "data": {
      "text/html": [
       "<div>\n",
       "<style scoped>\n",
       "    .dataframe tbody tr th:only-of-type {\n",
       "        vertical-align: middle;\n",
       "    }\n",
       "\n",
       "    .dataframe tbody tr th {\n",
       "        vertical-align: top;\n",
       "    }\n",
       "\n",
       "    .dataframe thead th {\n",
       "        text-align: right;\n",
       "    }\n",
       "</style>\n",
       "<table border=\"1\" class=\"dataframe\">\n",
       "  <thead>\n",
       "    <tr style=\"text-align: right;\">\n",
       "      <th></th>\n",
       "      <th>followers</th>\n",
       "      <th>likes</th>\n",
       "      <th>comments</th>\n",
       "      <th>impressions</th>\n",
       "      <th>reach</th>\n",
       "      <th>logfollowers</th>\n",
       "      <th>logcomments</th>\n",
       "      <th>loglikes</th>\n",
       "      <th>test_reach</th>\n",
       "      <th>reach_diff</th>\n",
       "      <th>diff_ratio</th>\n",
       "    </tr>\n",
       "  </thead>\n",
       "  <tbody>\n",
       "    <tr>\n",
       "      <th>0</th>\n",
       "      <td>100276.0</td>\n",
       "      <td>1472.0</td>\n",
       "      <td>69.0</td>\n",
       "      <td>6209.0</td>\n",
       "      <td>5302.0</td>\n",
       "      <td>11.515682</td>\n",
       "      <td>4.234107</td>\n",
       "      <td>7.294377</td>\n",
       "      <td>19994.576708</td>\n",
       "      <td>14692.576708</td>\n",
       "      <td>277.113857</td>\n",
       "    </tr>\n",
       "    <tr>\n",
       "      <th>1</th>\n",
       "      <td>10299.0</td>\n",
       "      <td>562.0</td>\n",
       "      <td>11.0</td>\n",
       "      <td>710.0</td>\n",
       "      <td>574.0</td>\n",
       "      <td>9.239802</td>\n",
       "      <td>2.397895</td>\n",
       "      <td>6.331502</td>\n",
       "      <td>9163.196956</td>\n",
       "      <td>8589.196956</td>\n",
       "      <td>1496.375776</td>\n",
       "    </tr>\n",
       "    <tr>\n",
       "      <th>2</th>\n",
       "      <td>40025.0</td>\n",
       "      <td>1600.0</td>\n",
       "      <td>133.0</td>\n",
       "      <td>3371.0</td>\n",
       "      <td>2789.0</td>\n",
       "      <td>10.597260</td>\n",
       "      <td>4.890349</td>\n",
       "      <td>7.377759</td>\n",
       "      <td>19887.900657</td>\n",
       "      <td>17098.900657</td>\n",
       "      <td>613.083566</td>\n",
       "    </tr>\n",
       "    <tr>\n",
       "      <th>3</th>\n",
       "      <td>22071.0</td>\n",
       "      <td>807.0</td>\n",
       "      <td>34.0</td>\n",
       "      <td>11333.0</td>\n",
       "      <td>8932.0</td>\n",
       "      <td>10.002020</td>\n",
       "      <td>3.526361</td>\n",
       "      <td>6.693324</td>\n",
       "      <td>12735.933445</td>\n",
       "      <td>3803.933445</td>\n",
       "      <td>42.587701</td>\n",
       "    </tr>\n",
       "    <tr>\n",
       "      <th>4</th>\n",
       "      <td>24390.0</td>\n",
       "      <td>1467.0</td>\n",
       "      <td>76.0</td>\n",
       "      <td>6198.0</td>\n",
       "      <td>4824.0</td>\n",
       "      <td>10.101928</td>\n",
       "      <td>4.330733</td>\n",
       "      <td>7.290975</td>\n",
       "      <td>19180.900507</td>\n",
       "      <td>14356.900507</td>\n",
       "      <td>297.614024</td>\n",
       "    </tr>\n",
       "  </tbody>\n",
       "</table>\n",
       "</div>"
      ],
      "text/plain": [
       "   followers   likes  comments  impressions   reach  logfollowers  \\\n",
       "0   100276.0  1472.0      69.0       6209.0  5302.0     11.515682   \n",
       "1    10299.0   562.0      11.0        710.0   574.0      9.239802   \n",
       "2    40025.0  1600.0     133.0       3371.0  2789.0     10.597260   \n",
       "3    22071.0   807.0      34.0      11333.0  8932.0     10.002020   \n",
       "4    24390.0  1467.0      76.0       6198.0  4824.0     10.101928   \n",
       "\n",
       "   logcomments  loglikes    test_reach    reach_diff   diff_ratio  \n",
       "0     4.234107  7.294377  19994.576708  14692.576708   277.113857  \n",
       "1     2.397895  6.331502   9163.196956   8589.196956  1496.375776  \n",
       "2     4.890349  7.377759  19887.900657  17098.900657   613.083566  \n",
       "3     3.526361  6.693324  12735.933445   3803.933445    42.587701  \n",
       "4     4.330733  7.290975  19180.900507  14356.900507   297.614024  "
      ]
     },
     "execution_count": 25,
     "metadata": {},
     "output_type": "execute_result"
    }
   ],
   "source": [
    "df.head()"
   ]
  },
  {
   "cell_type": "code",
   "execution_count": 26,
   "metadata": {},
   "outputs": [
    {
     "name": "stdout",
     "output_type": "stream",
     "text": [
      "[11899.1851941]\n",
      "[8018.15700911]\n",
      "[5616.27484314]\n"
     ]
    }
   ],
   "source": [
    "from sklearn.linear_model import LinearRegression\n",
    "regression_1 = LinearRegression()\n",
    "regression_2 = LinearRegression()\n",
    "regression_3 = LinearRegression()\n",
    "\n",
    "likes = df[\"loglikes\"].values.reshape(-1, 1)\n",
    "comments = df[\"logcomments\"].values.reshape(-1, 1)\n",
    "followers = df[\"logfollowers\"].values.reshape(-1, 1)\n",
    "\n",
    "regression_1.fit(likes, df[\"reach\"])\n",
    "regression_2.fit(comments, df[\"reach\"])\n",
    "regression_3.fit(followers, df[\"reach\"])\n",
    "\n",
    "# Make predictions using the testing set\n",
    "pred_1 = regression_1.predict(likes)\n",
    "pred_2 = regression_2.predict(comments)\n",
    "pred_3 = regression_3.predict(followers)\n",
    "\n",
    "# The coefficients\n",
    "print(regression_1.coef_)\n",
    "print(regression_2.coef_)\n",
    "print(regression_3.coef_)"
   ]
  },
  {
   "cell_type": "code",
   "execution_count": 27,
   "metadata": {},
   "outputs": [
    {
     "data": {
      "image/png": "[encoded data removed]",
      "text/plain": [
       "<Figure size 720x432 with 1 Axes>"
      ]
     },
     "metadata": {
      "needs_background": "light"
     },
     "output_type": "display_data"
    }
   ],
   "source": [
    "# Plot outputs\n",
    "plt.figure(figsize=(10,6))\n",
    "\n",
    "plt.scatter(likes, df[\"reach\"],  color='blue', alpha = 0.3, label = \"likes\")\n",
    "plt.scatter(comments, df[\"reach\"],  color='red', alpha = 0.3, label = \"comments\")\n",
    "plt.scatter(followers, df[\"reach\"],  color='orange', alpha = 0.3, label = \"followers\")\n",
    "\n",
    "plt.plot(likes, pred_1,  color='blue', linewidth=2)\n",
    "plt.plot(comments, pred_2,  color='red', linewidth=2)\n",
    "plt.plot(followers, pred_3,  color='orange', linewidth=2)\n",
    "plt.ylabel(\"Reach\")\n",
    "plt.xlabel(\"all the things\")\n",
    "plt.xlim(0,50000)\n",
    "plt.ylim(0,20000)\n",
    "plt.legend();"
   ]
  },
  {
   "cell_type": "markdown",
   "metadata": {},
   "source": [
    "## Summary of trial 9\n",
    "Trying to add log transformation to the grouped user model. This did not create a decent test result. R-Squared is now just .32 and our histogram of accuracy shows many points all the way out to -2000% off. "
   ]
  }
 ],
 "metadata": {
  "kernelspec": {
   "display_name": "Python 3",
   "language": "python",
   "name": "python3"
  },
  "language_info": {
   "codemirror_mode": {
    "name": "ipython",
    "version": 3
   },
   "file_extension": ".py",
   "mimetype": "text/x-python",
   "name": "python",
   "nbconvert_exporter": "python",
   "pygments_lexer": "ipython3",
   "version": "3.7.1"
  }
 },
 "nbformat": 4,
 "nbformat_minor": 2
}
