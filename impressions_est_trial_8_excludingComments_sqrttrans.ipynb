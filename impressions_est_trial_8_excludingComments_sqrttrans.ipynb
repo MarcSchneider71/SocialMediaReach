{
 "cells": [
  {
   "cell_type": "markdown",
   "metadata": {},
   "source": [
    "# True Reach Estimator\n",
    "We are looking to build an estimator around instagram users true reach and impressions. This data is accessible through the business api but in Q1 2018 Instagram blocked influencer marketing teams from this endpoint. We are able to collect a sample of this data to see if there working correlations between currently public data and true reach/impressions.\n",
    "\n",
    "- Data: the CSV we have contains one year worth of data from 5,000 influencer level Instagram users.\n",
    "\n",
    "# The goal:\n",
    "Given the public data points create an accurate estimate of each posts reach and impressions. The ideal would be as accurate as possible, but a 10% range will work for the business."
   ]
  },
  {
   "cell_type": "markdown",
   "metadata": {},
   "source": [
    "## Trial 8\n",
    "\n",
    "Deleting the comments columns and trying a square root transformation to the data."
   ]
  },
  {
   "cell_type": "code",
   "execution_count": null,
   "metadata": {},
   "outputs": [],
   "source": [
    "# import necessary libraries\n",
    "from sklearn.model_selection import cross_val_score\n",
    "from sklearn.model_selection import KFold\n",
    "import pandas as pd\n",
    "import statsmodels.api as sm\n",
    "from statsmodels.formula.api import ols\n",
    "import matplotlib.pyplot as plt\n",
    "import seaborn as sns\n",
    "import bs4\n",
    "import requests\n",
    "import re\n",
    "\n",
    "plt.style.use('seaborn')"
   ]
  },
  {
   "cell_type": "code",
   "execution_count": null,
   "metadata": {},
   "outputs": [],
   "source": [
    "# import the clean data file\n",
    "df = pd.read_csv('clean_instagram_train.csv')\n",
    "df.head()"
   ]
  },
  {
   "cell_type": "markdown",
   "metadata": {},
   "source": [
    "## Drop the comments column all together"
   ]
  },
  {
   "cell_type": "code",
   "execution_count": null,
   "metadata": {},
   "outputs": [],
   "source": [
    "# drop the first column which are just the indices, dropped the published column, dropped impressions\n",
    "df.drop(columns= ['impressions','published', 'Unnamed: 0', 'comments'], inplace=True)\n",
    "df.head()"
   ]
  },
  {
   "cell_type": "markdown",
   "metadata": {},
   "source": [
    "## Create a new dataframe"
   ]
  },
  {
   "cell_type": "code",
   "execution_count": null,
   "metadata": {},
   "outputs": [],
   "source": [
    "df_dropcomm= df.copy()"
   ]
  },
  {
   "cell_type": "code",
   "execution_count": null,
   "metadata": {
    "scrolled": true
   },
   "outputs": [],
   "source": [
    "df_dropcomm.shape"
   ]
  },
  {
   "cell_type": "code",
   "execution_count": null,
   "metadata": {},
   "outputs": [],
   "source": [
    "df_dropcomm.head()"
   ]
  },
  {
   "cell_type": "markdown",
   "metadata": {},
   "source": [
    "## Scatter plot of Followers and Reach, dropped rows where reach was greater than 200,000"
   ]
  },
  {
   "cell_type": "code",
   "execution_count": null,
   "metadata": {},
   "outputs": [],
   "source": [
    "df_dropcomm[df_dropcomm.reach>400000].count()"
   ]
  },
  {
   "cell_type": "code",
   "execution_count": null,
   "metadata": {},
   "outputs": [],
   "source": [
    "df_dropcomm.drop(df_dropcomm[df_dropcomm.reach>200000].index, inplace= True)"
   ]
  },
  {
   "cell_type": "code",
   "execution_count": null,
   "metadata": {},
   "outputs": [],
   "source": [
    "df_dropcomm.shape"
   ]
  },
  {
   "cell_type": "code",
   "execution_count": null,
   "metadata": {
    "scrolled": true
   },
   "outputs": [],
   "source": [
    "plt.scatter(df_dropcomm['followers'], df_dropcomm['reach']);\n",
    "# plt.xlim(0,2000)\n",
    "# plt.ylim(0,700000);"
   ]
  },
  {
   "cell_type": "markdown",
   "metadata": {},
   "source": [
    "## Scatter plot of Likes and Reach, here we remove outliers that have  'likes' greater than 17,000"
   ]
  },
  {
   "cell_type": "code",
   "execution_count": null,
   "metadata": {},
   "outputs": [],
   "source": [
    "df_dropcomm.drop(df_dropcomm[df_dropcomm['likes']>17000].index, inplace=True)"
   ]
  },
  {
   "cell_type": "code",
   "execution_count": null,
   "metadata": {
    "scrolled": true
   },
   "outputs": [],
   "source": [
    "plt.scatter(df_dropcomm['likes'], df_dropcomm['reach']);"
   ]
  },
  {
   "cell_type": "code",
   "execution_count": null,
   "metadata": {},
   "outputs": [],
   "source": [
    "df_dropcomm.drop(df_dropcomm[df_dropcomm['reach']==0].index, inplace=True)"
   ]
  },
  {
   "cell_type": "code",
   "execution_count": null,
   "metadata": {},
   "outputs": [],
   "source": [
    "import numpy as np"
   ]
  },
  {
   "cell_type": "code",
   "execution_count": null,
   "metadata": {
    "scrolled": true
   },
   "outputs": [],
   "source": [
    "df_dropcomm.head()"
   ]
  },
  {
   "cell_type": "markdown",
   "metadata": {},
   "source": [
    "# Taking a look at the linear regression model excluding comments"
   ]
  },
  {
   "cell_type": "code",
   "execution_count": null,
   "metadata": {
    "scrolled": true
   },
   "outputs": [],
   "source": [
    "lr_modelexcomm = ols(formula='reach~followers + likes', data=df_dropcomm).fit()\n",
    "lr_modelexcomm.summary()"
   ]
  },
  {
   "cell_type": "markdown",
   "metadata": {},
   "source": [
    "## Creating a new column in our dataframe using our regression model from ols"
   ]
  },
  {
   "cell_type": "code",
   "execution_count": null,
   "metadata": {},
   "outputs": [],
   "source": [
    "df_dropcomm['predicted_reach']= lr_modelexcomm.predict()"
   ]
  },
  {
   "cell_type": "code",
   "execution_count": null,
   "metadata": {},
   "outputs": [],
   "source": [
    "from sklearn.metrics import mean_squared_error"
   ]
  },
  {
   "cell_type": "code",
   "execution_count": null,
   "metadata": {},
   "outputs": [],
   "source": [
    "mean_squared_error(df_dropcomm.reach, df_dropcomm.predicted_reach)**.5"
   ]
  },
  {
   "cell_type": "code",
   "execution_count": null,
   "metadata": {},
   "outputs": [],
   "source": [
    "lr_modelexcomm.rsquared"
   ]
  },
  {
   "cell_type": "code",
   "execution_count": null,
   "metadata": {},
   "outputs": [],
   "source": [
    "len(df_dropcomm)"
   ]
  },
  {
   "cell_type": "code",
   "execution_count": null,
   "metadata": {},
   "outputs": [],
   "source": [
    "\"The rsquared of our model excluding comments is {} and our mean-squared error is {}.\".format(lr_modelexcomm.rsquared,mean_squared_error(df_dropcomm.reach, df_dropcomm.predicted_reach)**.5)"
   ]
  },
  {
   "cell_type": "markdown",
   "metadata": {},
   "source": [
    "## The $R^2$ of our model excluding comments is 0.5124878727076694 and our mean-squared error is 6074.416304497445."
   ]
  },
  {
   "cell_type": "markdown",
   "metadata": {},
   "source": [
    "# Add a column for squareroot of followers and squareroot of likes"
   ]
  },
  {
   "cell_type": "code",
   "execution_count": null,
   "metadata": {},
   "outputs": [],
   "source": [
    "df_dropcomm['followers_sqrt']= df_dropcomm['followers'].apply(lambda x: np.sqrt(x))"
   ]
  },
  {
   "cell_type": "code",
   "execution_count": null,
   "metadata": {},
   "outputs": [],
   "source": [
    "df_dropcomm['likes_sqrt']= df_dropcomm['likes'].apply(lambda x: np.sqrt(x))"
   ]
  },
  {
   "cell_type": "code",
   "execution_count": null,
   "metadata": {},
   "outputs": [],
   "source": [
    "df_dropcomm.head()"
   ]
  },
  {
   "cell_type": "markdown",
   "metadata": {},
   "source": [
    "# Creating a linear regression model exluding comments and creating a curvilinear regression using the square root of followers and the squareroot of likes\n"
   ]
  },
  {
   "cell_type": "code",
   "execution_count": null,
   "metadata": {},
   "outputs": [],
   "source": [
    "lr_modelexcomm_sqrt= ols(formula='reach~ followers+ followers_sqrt+ likes_sqrt + likes', data=df_dropcomm).fit()\n",
    "lr_modelexcomm_sqrt.summary()"
   ]
  },
  {
   "cell_type": "code",
   "execution_count": null,
   "metadata": {},
   "outputs": [],
   "source": [
    "df_dropcomm['predicted_reach_sqrt']= lr_modelexcomm_sqrt.predict()"
   ]
  },
  {
   "cell_type": "code",
   "execution_count": null,
   "metadata": {},
   "outputs": [],
   "source": [
    "mean_squared_error(df_dropcomm.reach, df_dropcomm.predicted_reach_sqrt)**.5"
   ]
  },
  {
   "cell_type": "code",
   "execution_count": null,
   "metadata": {},
   "outputs": [],
   "source": [
    "\"The rsquared of our model excluding comments and taking the squareroot of our independent variables is {} and our mean-squared error is {}.\".format(lr_modelexcomm_sqrt.rsquared,mean_squared_error(df_dropcomm.reach, df_dropcomm.predicted_reach_sqrt)**.5)"
   ]
  },
  {
   "cell_type": "markdown",
   "metadata": {},
   "source": [
    "### The $R^2$ of our model excluding comments and taking the squareroot of our independent variables is 0.5187820543257242 and our mean-squared error is 6035.076063689838.\n"
   ]
  },
  {
   "cell_type": "markdown",
   "metadata": {},
   "source": [
    "Doing a square root transformation on our independent variables barely increases our R2 or mean squared error."
   ]
  },
  {
   "cell_type": "markdown",
   "metadata": {},
   "source": [
    "## Scatter plot of Sqrt Followers and Reach"
   ]
  },
  {
   "cell_type": "code",
   "execution_count": null,
   "metadata": {
    "scrolled": true
   },
   "outputs": [],
   "source": [
    "plt.scatter(df_dropcomm['followers_sqrt'], df_dropcomm['reach']);"
   ]
  },
  {
   "cell_type": "code",
   "execution_count": null,
   "metadata": {},
   "outputs": [],
   "source": [
    "plt.scatter(df_dropcomm['likes'], df_dropcomm['reach']);"
   ]
  },
  {
   "cell_type": "code",
   "execution_count": null,
   "metadata": {},
   "outputs": [],
   "source": [
    "df_dropcomm.head()"
   ]
  },
  {
   "cell_type": "markdown",
   "metadata": {},
   "source": [
    "## Take a look at the interaction between our independent variable and reach"
   ]
  },
  {
   "cell_type": "code",
   "execution_count": null,
   "metadata": {
    "scrolled": true
   },
   "outputs": [],
   "source": [
    "from sklearn.linear_model import LinearRegression\n",
    "regression_1 = LinearRegression()\n",
    "regression_2 = LinearRegression()\n",
    "regression_3 = LinearRegression()\n",
    "regression_4 = LinearRegression()\n",
    "\n",
    "likes = df_dropcomm[\"likes\"].values.reshape(-1, 1)\n",
    "likes_sqrt = df_dropcomm[\"likes_sqrt\"].values.reshape(-1, 1)\n",
    "followers_sqrt = df_dropcomm[\"followers\"].values.reshape(-1, 1)\n",
    "followers = df_dropcomm[\"followers_sqrt\"].values.reshape(-1, 1)\n",
    "\n",
    "regression_1.fit(likes, df_dropcomm[\"reach\"])\n",
    "regression_2.fit(followers_sqrt, df_dropcomm[\"reach\"])\n",
    "regression_3.fit(followers, df_dropcomm[\"reach\"])\n",
    "regression_4.fit(likes_sqrt, df_dropcomm[\"reach\"])\n",
    "\n",
    "# Make predictions using the testing set\n",
    "pred_1 = regression_1.predict(likes)\n",
    "pred_2 = regression_2.predict(followers_sqrt)\n",
    "pred_3 = regression_3.predict(followers)\n",
    "pred_4 = regression_4.predict(likes_sqrt)\n",
    "\n",
    "# The coefficients\n",
    "print(regression_1.coef_)\n",
    "print(regression_2.coef_)\n",
    "print(regression_3.coef_)\n",
    "print(regression_4.coef_)\n",
    "\n"
   ]
  },
  {
   "cell_type": "markdown",
   "metadata": {},
   "source": [
    "## Creating Scatter plots of our new data"
   ]
  },
  {
   "cell_type": "code",
   "execution_count": null,
   "metadata": {
    "scrolled": true
   },
   "outputs": [],
   "source": [
    "fig = plt.figure(figsize=[20,20])\n",
    "\n",
    "ax1 = fig.add_subplot(441)\n",
    "ax1.scatter(df_dropcomm.followers, df_dropcomm.reach)\n",
    "ax1.set_xlabel('reach')\n",
    "ax1.set_ylabel('followers')\n",
    "ax1.set_title(\"Scatter plot\")\n",
    "\n",
    "ax2 = fig.add_subplot(442)\n",
    "ax2.scatter(df_dropcomm.followers_sqrt, df_dropcomm.reach)\n",
    "ax2.set_xlabel('reach')\n",
    "ax2.set_ylabel('followers_sqrt')\n",
    "ax2.set_title(\"Scatter plot\")\n",
    "\n",
    "ax3 = fig.add_subplot(443)\n",
    "ax3.scatter(df_dropcomm.likes, df_dropcomm.reach)\n",
    "ax3.set_xlabel('reach')\n",
    "ax3.set_ylabel('likes')\n",
    "ax3.set_title(\"Scatter plot\")\n",
    "\n",
    "ax4 = fig.add_subplot(444)\n",
    "ax4.scatter(df_dropcomm.likes_sqrt, df_dropcomm.reach)\n",
    "ax4.set_xlabel('reach')\n",
    "ax4.set_ylabel('likes_sqrt')\n",
    "ax4.set_title(\"Scatter plot\");"
   ]
  },
  {
   "cell_type": "markdown",
   "metadata": {},
   "source": [
    "## After running our analysis excluding comments and transforming our independent variables, we determine that this is not our best fitting model based on our $R^2$ and mean squared error value. We still do not have a model that satisfies our goal."
   ]
  }
 ],
 "metadata": {
  "kernelspec": {
   "display_name": "learn-env",
   "language": "python",
   "name": "learn-env"
  },
  "language_info": {
   "codemirror_mode": {
    "name": "ipython",
    "version": 3
   },
   "file_extension": ".py",
   "mimetype": "text/x-python",
   "name": "python",
   "nbconvert_exporter": "python",
   "pygments_lexer": "ipython3",
   "version": "3.6.6"
  }
 },
 "nbformat": 4,
 "nbformat_minor": 2
}
