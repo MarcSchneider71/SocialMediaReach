{
 "cells": [
  {
   "cell_type": "markdown",
   "metadata": {},
   "source": [
    "# True Reach Estimator\n",
    "We are looking to build an estimator around instagram users true reach and impressions. This data is accessible through the business api but in Q1 2018 Instagram blocked influencer marketing teams from this endpoint. We are able to collect a sample of this data to see if there working correlations between currently public data and true reach/impressions.\n",
    "\n",
    "Data: the CSV we have contains one year worth of data from 5,000 influencer level Instagram users.\n",
    "\n",
    "# The goal:\n",
    "Given the public data points create an accurate estimate of each posts reach and impressions. The ideal would be as accurate as possible, but a 10% range will work for the business."
   ]
  },
  {
   "cell_type": "markdown",
   "metadata": {},
   "source": [
    "## Trial 2 - Logarithmic Transformation and Scaling\n",
    "\n",
    "After an initial trial of exploring the data and cleaning it up. We decided to do a log transformation and scale the data.\n",
    "\n",
    "Process:\n",
    "- Import the data\n",
    "- Split the data into a test and training set\n",
    "- Observe the data once again before doing a transformation\n",
    "- Log transform the training set\n",
    "- Scale the data after the log transformation\n",
    "- Set conditions on the training data to eliminate outliers\n",
    "- Create a regression model on our variables to determine the effectiveness of the data so far \n",
    "- Use the regression model to check for accuracy in the prediction across the dataset\n",
    "- Summarize our findings and suggest next steps if unsucessful"
   ]
  },
  {
   "cell_type": "markdown",
   "metadata": {},
   "source": [
    "# Get the data into the notebook"
   ]
  },
  {
   "cell_type": "code",
   "execution_count": null,
   "metadata": {},
   "outputs": [],
   "source": [
    "# import necessary libraries\n",
    "from sklearn.model_selection import cross_val_score\n",
    "from sklearn.model_selection import KFold\n",
    "from sklearn.metrics import mean_squared_error\n",
    "import pandas as pd\n",
    "import scipy.stats as stats\n",
    "import statsmodels.api as sm\n",
    "from statsmodels.formula.api import ols\n",
    "import matplotlib.pyplot as plt\n",
    "import seaborn as sns\n",
    "import bs4\n",
    "import requests\n",
    "import re\n",
    "import warnings\n",
    "warnings.filterwarnings(\"ignore\")\n",
    "\n",
    "plt.style.use('seaborn')"
   ]
  },
  {
   "cell_type": "code",
   "execution_count": null,
   "metadata": {
    "scrolled": true
   },
   "outputs": [],
   "source": [
    "# import the data file\n",
    "df = pd.read_csv('trial_1_2.csv')\n",
    "df.head()"
   ]
  },
  {
   "cell_type": "code",
   "execution_count": null,
   "metadata": {
    "scrolled": false
   },
   "outputs": [],
   "source": [
    "# drop the first column which are just the indices and the columns we will not use in for the training\n",
    "df.drop(columns=['Unnamed: 0', \"published\", \"impressions\"], inplace=True)\n",
    "df.head()\n",
    "len(df)"
   ]
  },
  {
   "cell_type": "markdown",
   "metadata": {},
   "source": [
    "# Split the data into training and testing sets"
   ]
  },
  {
   "cell_type": "code",
   "execution_count": null,
   "metadata": {},
   "outputs": [],
   "source": [
    "from sklearn.model_selection import train_test_split\n",
    "df, test = train_test_split(df, test_size=0.2)"
   ]
  },
  {
   "cell_type": "markdown",
   "metadata": {},
   "source": [
    "# Visualize the data once more"
   ]
  },
  {
   "cell_type": "markdown",
   "metadata": {},
   "source": [
    "Take a look at the scatter plots of the likes, comments, and followers against the reach"
   ]
  },
  {
   "cell_type": "code",
   "execution_count": null,
   "metadata": {},
   "outputs": [],
   "source": [
    "plt.figure(figsize=(10,6))\n",
    "plt.scatter(df.likes, df.reach,  color='blue', alpha = 0.3)\n",
    "plt.show()"
   ]
  },
  {
   "cell_type": "code",
   "execution_count": null,
   "metadata": {
    "scrolled": true
   },
   "outputs": [],
   "source": [
    "plt.figure(figsize=(10,6))\n",
    "plt.scatter(df.comments, df.reach,  color='red', alpha = 0.3)\n",
    "plt.show()"
   ]
  },
  {
   "cell_type": "code",
   "execution_count": null,
   "metadata": {
    "scrolled": false
   },
   "outputs": [],
   "source": [
    "plt.figure(figsize=(10,6))\n",
    "plt.scatter(x=df.followers, y=df.reach,  color='orange', alpha = 0.3)\n",
    "plt.show()"
   ]
  },
  {
   "cell_type": "markdown",
   "metadata": {},
   "source": [
    "## A few observations\n",
    "- We seem to have a semi linear relationship between likes and reach, but heteroscedastic\n",
    "- We seem to have a curvilinear relationship between comments and reach \n",
    "- We seem to have some weird things happening with followers and reach."
   ]
  },
  {
   "cell_type": "markdown",
   "metadata": {},
   "source": [
    "# Looking at the histograms prior to transformation"
   ]
  },
  {
   "cell_type": "markdown",
   "metadata": {},
   "source": [
    "We take a look at the histograms of the independent variables we are interested in to determine which should be transformed to have a more normal distribution. We will log the features to see how it affects the distribution"
   ]
  },
  {
   "cell_type": "code",
   "execution_count": null,
   "metadata": {
    "scrolled": false
   },
   "outputs": [],
   "source": [
    "df.hist(figsize=[10,10])"
   ]
  },
  {
   "cell_type": "markdown",
   "metadata": {},
   "source": [
    "It seems like it the data can benefit from a log transform."
   ]
  },
  {
   "cell_type": "markdown",
   "metadata": {},
   "source": [
    "# Clean data"
   ]
  },
  {
   "cell_type": "markdown",
   "metadata": {},
   "source": [
    "We need to get rid of zero likes, comments, and followers in order to avoid divide by zero errors when transforming and scaling."
   ]
  },
  {
   "cell_type": "code",
   "execution_count": null,
   "metadata": {
    "scrolled": false
   },
   "outputs": [],
   "source": [
    "# drop anyone that has no reach\n",
    "df = df.loc[(df['reach']>=1)]\n",
    "print(df.head())\n",
    "len(df)"
   ]
  },
  {
   "cell_type": "markdown",
   "metadata": {},
   "source": [
    "We just cut 85 post from our data, which is less than 1% of our original data. Let's continue cutting out some of the things we know are weird like having 0 likes yet having a reach or having 0 followers and having a reach."
   ]
  },
  {
   "cell_type": "code",
   "execution_count": null,
   "metadata": {
    "scrolled": false
   },
   "outputs": [],
   "source": [
    "df = df[(df['likes']>=1)]\n",
    "df = df[(df['followers']>=1)]\n",
    "print(df.head())\n",
    "len(df)"
   ]
  },
  {
   "cell_type": "markdown",
   "metadata": {},
   "source": [
    "We just cut 189165 posts from our data, so we have just cut about 25% of our original data, worth of bad data. Let's see how cutting comments less than 1 affects the data."
   ]
  },
  {
   "cell_type": "code",
   "execution_count": null,
   "metadata": {
    "scrolled": false
   },
   "outputs": [],
   "source": [
    "df = df[(df['comments']>=1)]\n",
    "print(df.head())\n",
    "len(df)"
   ]
  },
  {
   "cell_type": "markdown",
   "metadata": {},
   "source": [
    "# Transforming the Likes, Comments, and Followers"
   ]
  },
  {
   "cell_type": "markdown",
   "metadata": {},
   "source": [
    "Create a new dataframe with the logarithmic transformation"
   ]
  },
  {
   "cell_type": "code",
   "execution_count": null,
   "metadata": {
    "scrolled": false
   },
   "outputs": [],
   "source": [
    "import numpy as np\n",
    "data_log = pd.DataFrame([])\n",
    "data_log[\"followers\"] = np.log(df[\"followers\"])\n",
    "data_log[\"comments\"] = np.log(df[\"comments\"])\n",
    "data_log[\"likes\"] = np.log(df[\"likes\"])\n",
    "data_log[\"reach\"] = df[\"reach\"]\n",
    "data_log.hist(figsize=[10,10])"
   ]
  },
  {
   "cell_type": "markdown",
   "metadata": {},
   "source": [
    "## A few observations\n",
    "- Logging the features seem to have normalize the distribution of the features a bit.\n",
    "- Likes seem to benefit the most from the transformation being more normal, while comments skewed to the right, and followers are skewed to the left."
   ]
  },
  {
   "cell_type": "markdown",
   "metadata": {},
   "source": [
    "We scaled the the logarithmic transformation and plot the histograms to see if that makes a difference."
   ]
  },
  {
   "cell_type": "code",
   "execution_count": null,
   "metadata": {
    "scrolled": false
   },
   "outputs": [],
   "source": [
    "# # Standardization\n",
    "scaled_fol = (data_log[\"followers\"]-np.mean(data_log[\"followers\"]))/np.sqrt(np.var(data_log[\"followers\"]))\n",
    "# # Standardization\n",
    "scaled_com = (data_log[\"comments\"]-np.mean(data_log[\"comments\"]))/np.sqrt(np.var(data_log[\"comments\"]))\n",
    "# # Standardization\n",
    "scaled_like = (data_log[\"likes\"]-np.mean(data_log[\"likes\"]))/np.sqrt(np.var(data_log[\"likes\"]))\n",
    "# scaled_reach = (data_log[\"reach\"]-np.mean(data_log[\"reach\"]))/np.sqrt(np.var(data_log[\"reach\"]))\n",
    "\n",
    "\n",
    "data_scaled = pd.DataFrame([])\n",
    "data_scaled[\"followers\"] = scaled_fol\n",
    "data_scaled[\"comments\"] = scaled_com\n",
    "data_scaled[\"likes\"] = scaled_like\n",
    "data_scaled[\"reach\"] = df.reach.copy()\n",
    "\n",
    "data_scaled.hist(figsize  = [10, 10]);"
   ]
  },
  {
   "cell_type": "code",
   "execution_count": null,
   "metadata": {},
   "outputs": [],
   "source": [
    "data_scaled.head()"
   ]
  },
  {
   "cell_type": "markdown",
   "metadata": {},
   "source": [
    "The histograms are look the same but the scales are just different. Since we are doing a linear regression, we do not need to scale."
   ]
  },
  {
   "cell_type": "markdown",
   "metadata": {},
   "source": [
    "# Creating our models"
   ]
  },
  {
   "cell_type": "markdown",
   "metadata": {},
   "source": [
    "First lets take a look at the ols summary of the log transform"
   ]
  },
  {
   "cell_type": "code",
   "execution_count": null,
   "metadata": {},
   "outputs": [],
   "source": [
    "# take a stab at the ols model with the data that was log tansform\n",
    "lr_model = ols(formula='reach~followers + likes + comments', data=data_log).fit()\n",
    "lr_model.summary()"
   ]
  },
  {
   "cell_type": "markdown",
   "metadata": {},
   "source": [
    "Using the coefficients from the summary above we defined a test function that takes in unscaled inputs and scales them before running it through the function.\n",
    "\n",
    ">> `def reach_test_log(followers, likes, comments): \n",
    "    return (667.6353*np.log(followers)) + (6638.6280*np.log(likes)) + (-568.5896*np.log(comments)) -4.061e04`"
   ]
  },
  {
   "cell_type": "markdown",
   "metadata": {},
   "source": [
    "But we can just use the ols built in predict function/method the run the data through "
   ]
  },
  {
   "cell_type": "code",
   "execution_count": null,
   "metadata": {},
   "outputs": [],
   "source": [
    "# create a column  for the test reach and the reach difference\n",
    "data_log[\"test_reach\"] = lr_model.predict(data_log)\n",
    "data_log[\"reach_diff\"] = data_log.reach - data_log.test_reach"
   ]
  },
  {
   "cell_type": "code",
   "execution_count": null,
   "metadata": {
    "scrolled": false
   },
   "outputs": [],
   "source": [
    "data_log.head()"
   ]
  },
  {
   "cell_type": "markdown",
   "metadata": {},
   "source": [
    "### Observe the RSME of the log transforms"
   ]
  },
  {
   "cell_type": "code",
   "execution_count": null,
   "metadata": {
    "scrolled": true
   },
   "outputs": [],
   "source": [
    "# rsme of the training data\n",
    "mean_squared_error(data_log.test_reach, data_log.reach)**.5"
   ]
  },
  {
   "cell_type": "code",
   "execution_count": null,
   "metadata": {},
   "outputs": [],
   "source": [
    "# rsme of the test data\n",
    "test_reach = lr_model.predict(test)\n",
    "mean_squared_error(test_reach, test.reach)**.5"
   ]
  },
  {
   "cell_type": "markdown",
   "metadata": {},
   "source": [
    "Next lets take a look at the ols summary of the scaled data"
   ]
  },
  {
   "cell_type": "code",
   "execution_count": null,
   "metadata": {
    "scrolled": false
   },
   "outputs": [],
   "source": [
    "# take a look at the summary\n",
    "lr_model_2 = ols(formula='reach~followers + likes + comments', data=data_scaled).fit()\n",
    "lr_model_2.summary()"
   ]
  },
  {
   "cell_type": "code",
   "execution_count": null,
   "metadata": {},
   "outputs": [],
   "source": [
    "# create a new column in the data frame that has the reach for the test  \n",
    "data_scaled[\"test_reach\"] = lr_model_2.predict(data_scaled)"
   ]
  },
  {
   "cell_type": "markdown",
   "metadata": {},
   "source": [
    "### Observe the RSME of the scaled data"
   ]
  },
  {
   "cell_type": "code",
   "execution_count": null,
   "metadata": {},
   "outputs": [],
   "source": [
    "mean_squared_error(data_scaled.test_reach, data_scaled.reach)**.5"
   ]
  },
  {
   "cell_type": "code",
   "execution_count": null,
   "metadata": {},
   "outputs": [],
   "source": [
    "scaled_test = lr_model_2.predict(test)\n",
    "mean_squared_error(scaled_test, test.reach)**.5"
   ]
  },
  {
   "cell_type": "code",
   "execution_count": null,
   "metadata": {
    "scrolled": true
   },
   "outputs": [],
   "source": [
    "data_scaled.head(5)"
   ]
  },
  {
   "cell_type": "markdown",
   "metadata": {},
   "source": [
    "# Summary\n",
    "\n",
    "Even after doing a log transform the $R^2$ was just above 21% and the RMSE was over 27,000 on our training data. For our test data, the RMSE was over 100,000(log transform) on the first model with our test dataset and over 200,000 on our second model(log transform and scaled). We conclude that we must do some further analysis on the data. In our next trial, we will see the effects of a curvilinear regression."
   ]
  }
 ],
 "metadata": {
  "kernelspec": {
   "display_name": "Python 3",
   "language": "python",
   "name": "python3"
  },
  "language_info": {
   "codemirror_mode": {
    "name": "ipython",
    "version": 3
   },
   "file_extension": ".py",
   "mimetype": "text/x-python",
   "name": "python",
   "nbconvert_exporter": "python",
   "pygments_lexer": "ipython3",
   "version": "3.7.1"
  }
 },
 "nbformat": 4,
 "nbformat_minor": 2
}
