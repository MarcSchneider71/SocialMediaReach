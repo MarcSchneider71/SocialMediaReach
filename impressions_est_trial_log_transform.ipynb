{
 "cells": [
  {
   "cell_type": "markdown",
   "metadata": {},
   "source": [
    "# True Reach Estimator\n",
    "We are looking to build an estimator around instagram users true reach and impressions. This data is accessible through the business api but in Q1 2018 Instagram blocked influencer marketing teams from this endpoint. We are able to collect a sample of this data to see if there working correlations between currently public data and true reach/impressions.\n",
    "\n",
    "Data: the CSV we have contains one year worth of data from 5,000 influencer level Instagram users.\n",
    "\n",
    "# The goal:\n",
    "Given the public data points create an accurate estimate of each posts reach and impressions. The ideal would be as accurate as possible, but a 10% range will work for the business."
   ]
  },
  {
   "cell_type": "markdown",
   "metadata": {},
   "source": [
    "## Trial 2 - Logarithmic Transformation and Scaling\n",
    "\n",
    "After an initial trial of exploring the data and cleaning it up. We decided to do a log transformation and scale the data.\n",
    "\n",
    "Process:\n",
    "- Import the data\n",
    "- Split the data into a test and training set\n",
    "- Observe the data once again before doing a transformation\n",
    "- Log transform the training set\n",
    "- Scale the data after the log transformation\n",
    "- Set conditions on the training data to eliminate outliers\n",
    "- Create a regression model on our variables to determine the effectiveness of the data so far \n",
    "- Use the regression model to check for accuracy in the prediction across the dataset\n",
    "- Summarize our findings and suggest next steps if unsucessful"
   ]
  },
  {
   "cell_type": "markdown",
   "metadata": {},
   "source": [
    "# Get the data into the notebook"
   ]
  },
  {
   "cell_type": "code",
   "execution_count": 1,
   "metadata": {},
   "outputs": [],
   "source": [
    "# import necessary libraries\n",
    "from sklearn.model_selection import cross_val_score\n",
    "from sklearn.model_selection import KFold\n",
    "from sklearn.metrics import mean_squared_error\n",
    "import pandas as pd\n",
    "import scipy.stats as stats\n",
    "import statsmodels.api as sm\n",
    "from statsmodels.formula.api import ols\n",
    "import matplotlib.pyplot as plt\n",
    "import seaborn as sns\n",
    "import bs4\n",
    "import requests\n",
    "import re\n",
    "import warnings\n",
    "warnings.filterwarnings(\"ignore\")\n",
    "\n",
    "plt.style.use('seaborn')"
   ]
  },
  {
   "cell_type": "code",
   "execution_count": 2,
   "metadata": {
    "scrolled": true
   },
   "outputs": [
    {
     "data": {
      "text/html": [
       "<div>\n",
       "<style scoped>\n",
       "    .dataframe tbody tr th:only-of-type {\n",
       "        vertical-align: middle;\n",
       "    }\n",
       "\n",
       "    .dataframe tbody tr th {\n",
       "        vertical-align: top;\n",
       "    }\n",
       "\n",
       "    .dataframe thead th {\n",
       "        text-align: right;\n",
       "    }\n",
       "</style>\n",
       "<table border=\"1\" class=\"dataframe\">\n",
       "  <thead>\n",
       "    <tr style=\"text-align: right;\">\n",
       "      <th></th>\n",
       "      <th>Unnamed: 0</th>\n",
       "      <th>followers</th>\n",
       "      <th>published</th>\n",
       "      <th>likes</th>\n",
       "      <th>comments</th>\n",
       "      <th>impressions</th>\n",
       "      <th>reach</th>\n",
       "    </tr>\n",
       "  </thead>\n",
       "  <tbody>\n",
       "    <tr>\n",
       "      <th>0</th>\n",
       "      <td>0</td>\n",
       "      <td>68172</td>\n",
       "      <td>2018-06-18T01:26:44.000+00:00</td>\n",
       "      <td>107</td>\n",
       "      <td>1</td>\n",
       "      <td>2301</td>\n",
       "      <td>1782</td>\n",
       "    </tr>\n",
       "    <tr>\n",
       "      <th>1</th>\n",
       "      <td>1</td>\n",
       "      <td>68172</td>\n",
       "      <td>2018-06-17T18:47:24.000+00:00</td>\n",
       "      <td>323</td>\n",
       "      <td>1</td>\n",
       "      <td>9563</td>\n",
       "      <td>8131</td>\n",
       "    </tr>\n",
       "    <tr>\n",
       "      <th>2</th>\n",
       "      <td>2</td>\n",
       "      <td>68223</td>\n",
       "      <td>2018-06-19T02:24:03.000+00:00</td>\n",
       "      <td>38</td>\n",
       "      <td>1</td>\n",
       "      <td>290</td>\n",
       "      <td>261</td>\n",
       "    </tr>\n",
       "    <tr>\n",
       "      <th>3</th>\n",
       "      <td>3</td>\n",
       "      <td>68223</td>\n",
       "      <td>2018-06-18T16:44:25.000+00:00</td>\n",
       "      <td>656</td>\n",
       "      <td>12</td>\n",
       "      <td>11360</td>\n",
       "      <td>9082</td>\n",
       "    </tr>\n",
       "    <tr>\n",
       "      <th>4</th>\n",
       "      <td>4</td>\n",
       "      <td>67812</td>\n",
       "      <td>2018-05-30T03:22:11.000+00:00</td>\n",
       "      <td>2044</td>\n",
       "      <td>26</td>\n",
       "      <td>100970</td>\n",
       "      <td>85215</td>\n",
       "    </tr>\n",
       "  </tbody>\n",
       "</table>\n",
       "</div>"
      ],
      "text/plain": [
       "   Unnamed: 0  followers                      published  likes  comments  \\\n",
       "0           0      68172  2018-06-18T01:26:44.000+00:00    107         1   \n",
       "1           1      68172  2018-06-17T18:47:24.000+00:00    323         1   \n",
       "2           2      68223  2018-06-19T02:24:03.000+00:00     38         1   \n",
       "3           3      68223  2018-06-18T16:44:25.000+00:00    656        12   \n",
       "4           4      67812  2018-05-30T03:22:11.000+00:00   2044        26   \n",
       "\n",
       "   impressions  reach  \n",
       "0         2301   1782  \n",
       "1         9563   8131  \n",
       "2          290    261  \n",
       "3        11360   9082  \n",
       "4       100970  85215  "
      ]
     },
     "execution_count": 2,
     "metadata": {},
     "output_type": "execute_result"
    }
   ],
   "source": [
    "# import the data file\n",
    "df = pd.read_csv('trial_1_2.csv')\n",
    "df.head()"
   ]
  },
  {
   "cell_type": "code",
   "execution_count": 3,
   "metadata": {
    "scrolled": false
   },
   "outputs": [
    {
     "data": {
      "text/plain": [
       "728018"
      ]
     },
     "execution_count": 3,
     "metadata": {},
     "output_type": "execute_result"
    }
   ],
   "source": [
    "# drop the first column which are just the indices and the columns we will not use in for the training\n",
    "df.drop(columns=['Unnamed: 0', \"published\", \"impressions\"], inplace=True)\n",
    "df.head()\n",
    "len(df)"
   ]
  },
  {
   "cell_type": "markdown",
   "metadata": {},
   "source": [
    "# Split the data into training and testing sets"
   ]
  },
  {
   "cell_type": "code",
   "execution_count": 4,
   "metadata": {},
   "outputs": [],
   "source": [
    "from sklearn.model_selection import train_test_split\n",
    "df, test = train_test_split(df, test_size=0.2)"
   ]
  },
  {
   "cell_type": "markdown",
   "metadata": {},
   "source": [
    "# Visualize the data once more"
   ]
  },
  {
   "cell_type": "markdown",
   "metadata": {},
   "source": [
    "Take a look at the scatter plots of the likes, comments, and followers against the reach"
   ]
  },
  {
   "cell_type": "code",
   "execution_count": null,
   "metadata": {},
   "outputs": [],
   "source": [
    "plt.figure(figsize=(10,6))\n",
    "plt.scatter(df.likes, df.reach,  color='blue', alpha = 0.3)\n",
    "plt.show()"
   ]
  },
  {
   "cell_type": "code",
   "execution_count": null,
   "metadata": {
    "scrolled": true
   },
   "outputs": [],
   "source": [
    "plt.figure(figsize=(10,6))\n",
    "plt.scatter(df.comments, df.reach,  color='red', alpha = 0.3)\n",
    "plt.show()"
   ]
  },
  {
   "cell_type": "code",
   "execution_count": null,
   "metadata": {
    "scrolled": false
   },
   "outputs": [],
   "source": [
    "plt.figure(figsize=(10,6))\n",
    "plt.scatter(x=df.followers, y=df.reach,  color='orange', alpha = 0.3)\n",
    "plt.show()"
   ]
  },
  {
   "cell_type": "markdown",
   "metadata": {},
   "source": [
    "## A few observations\n",
    "- We seem to have a semi linear relationship between likes and reach, but heteroscedastic\n",
    "- We seem to have a curvilinear relationship between comments and reach \n",
    "- We seem to have some weird things happening with followers and reach."
   ]
  },
  {
   "cell_type": "markdown",
   "metadata": {},
   "source": [
    "# Looking at the histograms prior to transformation"
   ]
  },
  {
   "cell_type": "markdown",
   "metadata": {},
   "source": [
    "We take a look at the histograms of the independent variables we are interested in to determine which should be transformed to have a more normal distribution. We will log the features to see how it affects the distribution"
   ]
  },
  {
   "cell_type": "code",
   "execution_count": 5,
   "metadata": {
    "scrolled": false
   },
   "outputs": [
    {
     "data": {
      "text/plain": [
       "array([[<matplotlib.axes._subplots.AxesSubplot object at 0x1c27213358>,\n",
       "        <matplotlib.axes._subplots.AxesSubplot object at 0x1c272afb70>],\n",
       "       [<matplotlib.axes._subplots.AxesSubplot object at 0x1c272de518>,\n",
       "        <matplotlib.axes._subplots.AxesSubplot object at 0x1c27302e80>]],\n",
       "      dtype=object)"
      ]
     },
     "execution_count": 5,
     "metadata": {},
     "output_type": "execute_result"
    },
    {
     "data": {
      "image/png": "[encoded data removed]",
      "text/plain": [
       "<Figure size 720x720 with 4 Axes>"
      ]
     },
     "metadata": {
      "needs_background": "light"
     },
     "output_type": "display_data"
    }
   ],
   "source": [
    "df.hist(figsize=[10,10])"
   ]
  },
  {
   "cell_type": "markdown",
   "metadata": {},
   "source": [
    "It seems like it the data can benefit from a log transform."
   ]
  },
  {
   "cell_type": "markdown",
   "metadata": {},
   "source": [
    "# Clean data"
   ]
  },
  {
   "cell_type": "markdown",
   "metadata": {},
   "source": [
    "We need to get rid of zero likes, comments, and followers in order to avoid divide by zero errors when transforming and scaling."
   ]
  },
  {
   "cell_type": "code",
   "execution_count": 6,
   "metadata": {
    "scrolled": false
   },
   "outputs": [
    {
     "name": "stdout",
     "output_type": "stream",
     "text": [
      "        followers  likes  comments  reach\n",
      "387545       9003    124         3   1182\n",
      "695504     253811   6290         0  23194\n",
      "564763      17153    603       115   2580\n",
      "346329      60847    622        32   3515\n",
      "545332          0    201        33   1053\n"
     ]
    },
    {
     "data": {
      "text/plain": [
       "582345"
      ]
     },
     "execution_count": 6,
     "metadata": {},
     "output_type": "execute_result"
    }
   ],
   "source": [
    "# drop anyone that has no reach\n",
    "df = df.loc[(df['reach']>=1)]\n",
    "print(df.head())\n",
    "len(df)"
   ]
  },
  {
   "cell_type": "markdown",
   "metadata": {},
   "source": [
    "We just cut 85 post from our data, which is less than 1% of our original data. Let's continue cutting out some of the things we know are weird like having 0 likes yet having a reach or having 0 followers and having a reach."
   ]
  },
  {
   "cell_type": "code",
   "execution_count": 7,
   "metadata": {
    "scrolled": false
   },
   "outputs": [
    {
     "name": "stdout",
     "output_type": "stream",
     "text": [
      "        followers  likes  comments  reach\n",
      "387545       9003    124         3   1182\n",
      "695504     253811   6290         0  23194\n",
      "564763      17153    603       115   2580\n",
      "346329      60847    622        32   3515\n",
      "91505       51272   3787        31  19412\n"
     ]
    },
    {
     "data": {
      "text/plain": [
       "430965"
      ]
     },
     "execution_count": 7,
     "metadata": {},
     "output_type": "execute_result"
    }
   ],
   "source": [
    "df = df[(df['likes']>=1)]\n",
    "df = df[(df['followers']>=1)]\n",
    "print(df.head())\n",
    "len(df)"
   ]
  },
  {
   "cell_type": "markdown",
   "metadata": {},
   "source": [
    "We just cut 189165 posts from our data, so we have just cut about 25% of our original data, worth of bad data. Let's see how cutting comments less than 1 affects the data."
   ]
  },
  {
   "cell_type": "code",
   "execution_count": 8,
   "metadata": {
    "scrolled": false
   },
   "outputs": [
    {
     "name": "stdout",
     "output_type": "stream",
     "text": [
      "        followers  likes  comments  reach\n",
      "387545       9003    124         3   1182\n",
      "564763      17153    603       115   2580\n",
      "346329      60847    622        32   3515\n",
      "91505       51272   3787        31  19412\n",
      "479551       6727    184         5    835\n"
     ]
    },
    {
     "data": {
      "text/plain": [
       "417087"
      ]
     },
     "execution_count": 8,
     "metadata": {},
     "output_type": "execute_result"
    }
   ],
   "source": [
    "df = df[(df['comments']>=1)]\n",
    "print(df.head())\n",
    "len(df)"
   ]
  },
  {
   "cell_type": "markdown",
   "metadata": {},
   "source": [
    "# Transforming the Likes, Comments, and Followers"
   ]
  },
  {
   "cell_type": "markdown",
   "metadata": {},
   "source": [
    "Create a new dataframe with the logarithmic transformation"
   ]
  },
  {
   "cell_type": "code",
   "execution_count": 9,
   "metadata": {
    "scrolled": false
   },
   "outputs": [
    {
     "data": {
      "text/plain": [
       "array([[<matplotlib.axes._subplots.AxesSubplot object at 0x1c281378d0>,\n",
       "        <matplotlib.axes._subplots.AxesSubplot object at 0x1c28183a20>],\n",
       "       [<matplotlib.axes._subplots.AxesSubplot object at 0x1c2aa8d3c8>,\n",
       "        <matplotlib.axes._subplots.AxesSubplot object at 0x1c2aa69d30>]],\n",
       "      dtype=object)"
      ]
     },
     "execution_count": 9,
     "metadata": {},
     "output_type": "execute_result"
    },
    {
     "data": {
      "image/png": "[encoded data removed]",
      "text/plain": [
       "<Figure size 720x720 with 4 Axes>"
      ]
     },
     "metadata": {
      "needs_background": "light"
     },
     "output_type": "display_data"
    }
   ],
   "source": [
    "import numpy as np\n",
    "data_log = pd.DataFrame([])\n",
    "data_log[\"followers\"] = np.log(df[\"followers\"])\n",
    "data_log[\"comments\"] = np.log(df[\"comments\"])\n",
    "data_log[\"likes\"] = np.log(df[\"likes\"])\n",
    "data_log[\"reach\"] = df[\"reach\"]\n",
    "data_log.hist(figsize=[10,10])"
   ]
  },
  {
   "cell_type": "markdown",
   "metadata": {},
   "source": [
    "## A few observations\n",
    "- Logging the features seem to have normalize the distribution of the features a bit.\n",
    "- Likes seem to benefit the most from the transformation being more normal, while comments skewed to the right, and followers are skewed to the left."
   ]
  },
  {
   "cell_type": "markdown",
   "metadata": {},
   "source": [
    "We scaled the the logarithmic transformation and plot the histograms to see if that makes a difference."
   ]
  },
  {
   "cell_type": "code",
   "execution_count": 10,
   "metadata": {
    "scrolled": false
   },
   "outputs": [
    {
     "data": {
      "image/png": "[encoded data removed]",
      "text/plain": [
       "<Figure size 720x720 with 4 Axes>"
      ]
     },
     "metadata": {
      "needs_background": "light"
     },
     "output_type": "display_data"
    }
   ],
   "source": [
    "# # Standardization\n",
    "scaled_fol = (data_log[\"followers\"]-np.mean(data_log[\"followers\"]))/np.sqrt(np.var(data_log[\"followers\"]))\n",
    "# # Standardization\n",
    "scaled_com = (data_log[\"comments\"]-np.mean(data_log[\"comments\"]))/np.sqrt(np.var(data_log[\"comments\"]))\n",
    "# # Standardization\n",
    "scaled_like = (data_log[\"likes\"]-np.mean(data_log[\"likes\"]))/np.sqrt(np.var(data_log[\"likes\"]))\n",
    "# scaled_reach = (data_log[\"reach\"]-np.mean(data_log[\"reach\"]))/np.sqrt(np.var(data_log[\"reach\"]))\n",
    "\n",
    "\n",
    "data_scaled = pd.DataFrame([])\n",
    "data_scaled[\"followers\"] = scaled_fol\n",
    "data_scaled[\"comments\"] = scaled_com\n",
    "data_scaled[\"likes\"] = scaled_like\n",
    "data_scaled[\"reach\"] = df.reach.copy()\n",
    "\n",
    "data_scaled.hist(figsize  = [10, 10]);"
   ]
  },
  {
   "cell_type": "code",
   "execution_count": 11,
   "metadata": {},
   "outputs": [
    {
     "data": {
      "text/html": [
       "<div>\n",
       "<style scoped>\n",
       "    .dataframe tbody tr th:only-of-type {\n",
       "        vertical-align: middle;\n",
       "    }\n",
       "\n",
       "    .dataframe tbody tr th {\n",
       "        vertical-align: top;\n",
       "    }\n",
       "\n",
       "    .dataframe thead th {\n",
       "        text-align: right;\n",
       "    }\n",
       "</style>\n",
       "<table border=\"1\" class=\"dataframe\">\n",
       "  <thead>\n",
       "    <tr style=\"text-align: right;\">\n",
       "      <th></th>\n",
       "      <th>followers</th>\n",
       "      <th>comments</th>\n",
       "      <th>likes</th>\n",
       "      <th>reach</th>\n",
       "    </tr>\n",
       "  </thead>\n",
       "  <tbody>\n",
       "    <tr>\n",
       "      <th>387545</th>\n",
       "      <td>-0.416221</td>\n",
       "      <td>-1.468022</td>\n",
       "      <td>-1.099141</td>\n",
       "      <td>1182</td>\n",
       "    </tr>\n",
       "    <tr>\n",
       "      <th>564763</th>\n",
       "      <td>0.007307</td>\n",
       "      <td>1.307657</td>\n",
       "      <td>0.103876</td>\n",
       "      <td>2580</td>\n",
       "    </tr>\n",
       "    <tr>\n",
       "      <th>346329</th>\n",
       "      <td>0.839226</td>\n",
       "      <td>0.333897</td>\n",
       "      <td>0.127473</td>\n",
       "      <td>3515</td>\n",
       "    </tr>\n",
       "    <tr>\n",
       "      <th>91505</th>\n",
       "      <td>0.726732</td>\n",
       "      <td>0.309729</td>\n",
       "      <td>1.501441</td>\n",
       "      <td>19412</td>\n",
       "    </tr>\n",
       "    <tr>\n",
       "      <th>479551</th>\n",
       "      <td>-0.607697</td>\n",
       "      <td>-1.079168</td>\n",
       "      <td>-0.798960</td>\n",
       "      <td>835</td>\n",
       "    </tr>\n",
       "  </tbody>\n",
       "</table>\n",
       "</div>"
      ],
      "text/plain": [
       "        followers  comments     likes  reach\n",
       "387545  -0.416221 -1.468022 -1.099141   1182\n",
       "564763   0.007307  1.307657  0.103876   2580\n",
       "346329   0.839226  0.333897  0.127473   3515\n",
       "91505    0.726732  0.309729  1.501441  19412\n",
       "479551  -0.607697 -1.079168 -0.798960    835"
      ]
     },
     "execution_count": 11,
     "metadata": {},
     "output_type": "execute_result"
    }
   ],
   "source": [
    "data_scaled.head()"
   ]
  },
  {
   "cell_type": "markdown",
   "metadata": {},
   "source": [
    "The histograms are look the same but the scales are just different. Since we are doing a linear regression, we do not need to scale."
   ]
  },
  {
   "cell_type": "markdown",
   "metadata": {},
   "source": [
    "# Creating our models"
   ]
  },
  {
   "cell_type": "markdown",
   "metadata": {},
   "source": [
    "First lets take a look at the ols summary of the log transform"
   ]
  },
  {
   "cell_type": "code",
   "execution_count": 12,
   "metadata": {},
   "outputs": [
    {
     "data": {
      "text/html": [
       "<table class=\"simpletable\">\n",
       "<caption>OLS Regression Results</caption>\n",
       "<tr>\n",
       "  <th>Dep. Variable:</th>          <td>reach</td>      <th>  R-squared:         </th>  <td>   0.223</td>  \n",
       "</tr>\n",
       "<tr>\n",
       "  <th>Model:</th>                   <td>OLS</td>       <th>  Adj. R-squared:    </th>  <td>   0.223</td>  \n",
       "</tr>\n",
       "<tr>\n",
       "  <th>Method:</th>             <td>Least Squares</td>  <th>  F-statistic:       </th>  <td>3.981e+04</td> \n",
       "</tr>\n",
       "<tr>\n",
       "  <th>Date:</th>             <td>Fri, 08 Mar 2019</td> <th>  Prob (F-statistic):</th>   <td>  0.00</td>   \n",
       "</tr>\n",
       "<tr>\n",
       "  <th>Time:</th>                 <td>09:22:07</td>     <th>  Log-Likelihood:    </th> <td>-4.8409e+06</td>\n",
       "</tr>\n",
       "<tr>\n",
       "  <th>No. Observations:</th>      <td>417087</td>      <th>  AIC:               </th>  <td>9.682e+06</td> \n",
       "</tr>\n",
       "<tr>\n",
       "  <th>Df Residuals:</th>          <td>417083</td>      <th>  BIC:               </th>  <td>9.682e+06</td> \n",
       "</tr>\n",
       "<tr>\n",
       "  <th>Df Model:</th>              <td>     3</td>      <th>                     </th>      <td> </td>     \n",
       "</tr>\n",
       "<tr>\n",
       "  <th>Covariance Type:</th>      <td>nonrobust</td>    <th>                     </th>      <td> </td>     \n",
       "</tr>\n",
       "</table>\n",
       "<table class=\"simpletable\">\n",
       "<tr>\n",
       "      <td></td>         <th>coef</th>     <th>std err</th>      <th>t</th>      <th>P>|t|</th>  <th>[0.025</th>    <th>0.975]</th>  \n",
       "</tr>\n",
       "<tr>\n",
       "  <th>Intercept</th> <td> -6.34e+04</td> <td>  268.517</td> <td> -236.129</td> <td> 0.000</td> <td>-6.39e+04</td> <td>-6.29e+04</td>\n",
       "</tr>\n",
       "<tr>\n",
       "  <th>followers</th> <td> 1282.7590</td> <td>   43.650</td> <td>   29.387</td> <td> 0.000</td> <td> 1197.205</td> <td> 1368.313</td>\n",
       "</tr>\n",
       "<tr>\n",
       "  <th>likes</th>     <td> 1.013e+04</td> <td>   61.422</td> <td>  164.975</td> <td> 0.000</td> <td>    1e+04</td> <td> 1.03e+04</td>\n",
       "</tr>\n",
       "<tr>\n",
       "  <th>comments</th>  <td> -783.3645</td> <td>   43.595</td> <td>  -17.969</td> <td> 0.000</td> <td> -868.809</td> <td> -697.920</td>\n",
       "</tr>\n",
       "</table>\n",
       "<table class=\"simpletable\">\n",
       "<tr>\n",
       "  <th>Omnibus:</th>       <td>1144961.527</td> <th>  Durbin-Watson:     </th>     <td>   2.002</td>    \n",
       "</tr>\n",
       "<tr>\n",
       "  <th>Prob(Omnibus):</th>   <td> 0.000</td>    <th>  Jarque-Bera (JB):  </th> <td>180045600009.331</td>\n",
       "</tr>\n",
       "<tr>\n",
       "  <th>Skew:</th>            <td>34.028</td>    <th>  Prob(JB):          </th>     <td>    0.00</td>    \n",
       "</tr>\n",
       "<tr>\n",
       "  <th>Kurtosis:</th>       <td>3221.003</td>   <th>  Cond. No.          </th>     <td>    79.9</td>    \n",
       "</tr>\n",
       "</table><br/><br/>Warnings:<br/>[1] Standard Errors assume that the covariance matrix of the errors is correctly specified."
      ],
      "text/plain": [
       "<class 'statsmodels.iolib.summary.Summary'>\n",
       "\"\"\"\n",
       "                            OLS Regression Results                            \n",
       "==============================================================================\n",
       "Dep. Variable:                  reach   R-squared:                       0.223\n",
       "Model:                            OLS   Adj. R-squared:                  0.223\n",
       "Method:                 Least Squares   F-statistic:                 3.981e+04\n",
       "Date:                Fri, 08 Mar 2019   Prob (F-statistic):               0.00\n",
       "Time:                        09:22:07   Log-Likelihood:            -4.8409e+06\n",
       "No. Observations:              417087   AIC:                         9.682e+06\n",
       "Df Residuals:                  417083   BIC:                         9.682e+06\n",
       "Df Model:                           3                                         \n",
       "Covariance Type:            nonrobust                                         \n",
       "==============================================================================\n",
       "                 coef    std err          t      P>|t|      [0.025      0.975]\n",
       "------------------------------------------------------------------------------\n",
       "Intercept   -6.34e+04    268.517   -236.129      0.000   -6.39e+04   -6.29e+04\n",
       "followers   1282.7590     43.650     29.387      0.000    1197.205    1368.313\n",
       "likes       1.013e+04     61.422    164.975      0.000       1e+04    1.03e+04\n",
       "comments    -783.3645     43.595    -17.969      0.000    -868.809    -697.920\n",
       "==============================================================================\n",
       "Omnibus:                  1144961.527   Durbin-Watson:                   2.002\n",
       "Prob(Omnibus):                  0.000   Jarque-Bera (JB):     180045600009.331\n",
       "Skew:                          34.028   Prob(JB):                         0.00\n",
       "Kurtosis:                    3221.003   Cond. No.                         79.9\n",
       "==============================================================================\n",
       "\n",
       "Warnings:\n",
       "[1] Standard Errors assume that the covariance matrix of the errors is correctly specified.\n",
       "\"\"\""
      ]
     },
     "execution_count": 12,
     "metadata": {},
     "output_type": "execute_result"
    }
   ],
   "source": [
    "# take a stab at the ols model with the data that was log tansform\n",
    "lr_model = ols(formula='reach~followers + likes + comments', data=data_log).fit()\n",
    "lr_model.summary()"
   ]
  },
  {
   "cell_type": "markdown",
   "metadata": {},
   "source": [
    "Using the coefficients from the summary above we defined a test function that takes in unscaled inputs and scales them before running it through the function.\n",
    "\n",
    ">> `def reach_test_log(followers, likes, comments): \n",
    "    return (667.6353*np.log(followers)) + (6638.6280*np.log(likes)) + (-568.5896*np.log(comments)) -4.061e04`"
   ]
  },
  {
   "cell_type": "markdown",
   "metadata": {},
   "source": [
    "But we can just use the ols built in predict function/method the run the data through "
   ]
  },
  {
   "cell_type": "code",
   "execution_count": 13,
   "metadata": {},
   "outputs": [],
   "source": [
    "# create a column  for the test reach and the reach difference\n",
    "data_log[\"test_reach\"] = lr_model.predict(data_log)\n",
    "data_log[\"reach_diff\"] = data_log.reach - data_log.test_reach"
   ]
  },
  {
   "cell_type": "code",
   "execution_count": 14,
   "metadata": {
    "scrolled": false
   },
   "outputs": [
    {
     "data": {
      "text/html": [
       "<div>\n",
       "<style scoped>\n",
       "    .dataframe tbody tr th:only-of-type {\n",
       "        vertical-align: middle;\n",
       "    }\n",
       "\n",
       "    .dataframe tbody tr th {\n",
       "        vertical-align: top;\n",
       "    }\n",
       "\n",
       "    .dataframe thead th {\n",
       "        text-align: right;\n",
       "    }\n",
       "</style>\n",
       "<table border=\"1\" class=\"dataframe\">\n",
       "  <thead>\n",
       "    <tr style=\"text-align: right;\">\n",
       "      <th></th>\n",
       "      <th>followers</th>\n",
       "      <th>comments</th>\n",
       "      <th>likes</th>\n",
       "      <th>reach</th>\n",
       "      <th>test_reach</th>\n",
       "      <th>reach_diff</th>\n",
       "    </tr>\n",
       "  </thead>\n",
       "  <tbody>\n",
       "    <tr>\n",
       "      <th>387545</th>\n",
       "      <td>9.105313</td>\n",
       "      <td>1.098612</td>\n",
       "      <td>4.820282</td>\n",
       "      <td>1182</td>\n",
       "      <td>-3741.511210</td>\n",
       "      <td>4923.511210</td>\n",
       "    </tr>\n",
       "    <tr>\n",
       "      <th>564763</th>\n",
       "      <td>9.749928</td>\n",
       "      <td>4.744932</td>\n",
       "      <td>6.401917</td>\n",
       "      <td>2580</td>\n",
       "      <td>10255.689738</td>\n",
       "      <td>-7675.689738</td>\n",
       "    </tr>\n",
       "    <tr>\n",
       "      <th>346329</th>\n",
       "      <td>11.016118</td>\n",
       "      <td>3.465736</td>\n",
       "      <td>6.432940</td>\n",
       "      <td>3515</td>\n",
       "      <td>13196.337575</td>\n",
       "      <td>-9681.337575</td>\n",
       "    </tr>\n",
       "    <tr>\n",
       "      <th>91505</th>\n",
       "      <td>10.844900</td>\n",
       "      <td>3.433987</td>\n",
       "      <td>8.239329</td>\n",
       "      <td>19412</td>\n",
       "      <td>31305.718864</td>\n",
       "      <td>-11893.718864</td>\n",
       "    </tr>\n",
       "    <tr>\n",
       "      <th>479551</th>\n",
       "      <td>8.813885</td>\n",
       "      <td>1.609438</td>\n",
       "      <td>5.214936</td>\n",
       "      <td>835</td>\n",
       "      <td>-516.475927</td>\n",
       "      <td>1351.475927</td>\n",
       "    </tr>\n",
       "  </tbody>\n",
       "</table>\n",
       "</div>"
      ],
      "text/plain": [
       "        followers  comments     likes  reach    test_reach    reach_diff\n",
       "387545   9.105313  1.098612  4.820282   1182  -3741.511210   4923.511210\n",
       "564763   9.749928  4.744932  6.401917   2580  10255.689738  -7675.689738\n",
       "346329  11.016118  3.465736  6.432940   3515  13196.337575  -9681.337575\n",
       "91505   10.844900  3.433987  8.239329  19412  31305.718864 -11893.718864\n",
       "479551   8.813885  1.609438  5.214936    835   -516.475927   1351.475927"
      ]
     },
     "execution_count": 14,
     "metadata": {},
     "output_type": "execute_result"
    }
   ],
   "source": [
    "data_log.head()"
   ]
  },
  {
   "cell_type": "markdown",
   "metadata": {},
   "source": [
    "### Observe the RSME of the log transforms"
   ]
  },
  {
   "cell_type": "code",
   "execution_count": 15,
   "metadata": {
    "scrolled": true
   },
   "outputs": [
    {
     "data": {
      "text/plain": [
       "26570.740295289517"
      ]
     },
     "execution_count": 15,
     "metadata": {},
     "output_type": "execute_result"
    }
   ],
   "source": [
    "# rsme of the training data\n",
    "mean_squared_error(data_log.test_reach, data_log.reach)**.5"
   ]
  },
  {
   "cell_type": "code",
   "execution_count": 16,
   "metadata": {},
   "outputs": [
    {
     "data": {
      "text/plain": [
       "142644213.28047076"
      ]
     },
     "execution_count": 16,
     "metadata": {},
     "output_type": "execute_result"
    }
   ],
   "source": [
    "# rsme of the test data\n",
    "test_reach = lr_model.predict(test)\n",
    "mean_squared_error(test_reach, test.reach)**.5"
   ]
  },
  {
   "cell_type": "markdown",
   "metadata": {},
   "source": [
    "Next lets take a look at the ols summary of the scaled data"
   ]
  },
  {
   "cell_type": "code",
   "execution_count": 17,
   "metadata": {
    "scrolled": false
   },
   "outputs": [
    {
     "data": {
      "text/html": [
       "<table class=\"simpletable\">\n",
       "<caption>OLS Regression Results</caption>\n",
       "<tr>\n",
       "  <th>Dep. Variable:</th>          <td>reach</td>      <th>  R-squared:         </th>  <td>   0.223</td>  \n",
       "</tr>\n",
       "<tr>\n",
       "  <th>Model:</th>                   <td>OLS</td>       <th>  Adj. R-squared:    </th>  <td>   0.223</td>  \n",
       "</tr>\n",
       "<tr>\n",
       "  <th>Method:</th>             <td>Least Squares</td>  <th>  F-statistic:       </th>  <td>3.981e+04</td> \n",
       "</tr>\n",
       "<tr>\n",
       "  <th>Date:</th>             <td>Fri, 08 Mar 2019</td> <th>  Prob (F-statistic):</th>   <td>  0.00</td>   \n",
       "</tr>\n",
       "<tr>\n",
       "  <th>Time:</th>                 <td>09:23:13</td>     <th>  Log-Likelihood:    </th> <td>-4.8409e+06</td>\n",
       "</tr>\n",
       "<tr>\n",
       "  <th>No. Observations:</th>      <td>417087</td>      <th>  AIC:               </th>  <td>9.682e+06</td> \n",
       "</tr>\n",
       "<tr>\n",
       "  <th>Df Residuals:</th>          <td>417083</td>      <th>  BIC:               </th>  <td>9.682e+06</td> \n",
       "</tr>\n",
       "<tr>\n",
       "  <th>Df Model:</th>              <td>     3</td>      <th>                     </th>      <td> </td>     \n",
       "</tr>\n",
       "<tr>\n",
       "  <th>Covariance Type:</th>      <td>nonrobust</td>    <th>                     </th>      <td> </td>     \n",
       "</tr>\n",
       "</table>\n",
       "<table class=\"simpletable\">\n",
       "<tr>\n",
       "      <td></td>         <th>coef</th>     <th>std err</th>      <th>t</th>      <th>P>|t|</th>  <th>[0.025</th>    <th>0.975]</th>  \n",
       "</tr>\n",
       "<tr>\n",
       "  <th>Intercept</th> <td>  1.02e+04</td> <td>   41.143</td> <td>  247.997</td> <td> 0.000</td> <td> 1.01e+04</td> <td> 1.03e+04</td>\n",
       "</tr>\n",
       "<tr>\n",
       "  <th>followers</th> <td> 1952.3737</td> <td>   66.437</td> <td>   29.387</td> <td> 0.000</td> <td> 1822.160</td> <td> 2082.587</td>\n",
       "</tr>\n",
       "<tr>\n",
       "  <th>likes</th>     <td> 1.332e+04</td> <td>   80.752</td> <td>  164.975</td> <td> 0.000</td> <td> 1.32e+04</td> <td> 1.35e+04</td>\n",
       "</tr>\n",
       "<tr>\n",
       "  <th>comments</th>  <td>-1029.0807</td> <td>   57.269</td> <td>  -17.969</td> <td> 0.000</td> <td>-1141.326</td> <td> -916.835</td>\n",
       "</tr>\n",
       "</table>\n",
       "<table class=\"simpletable\">\n",
       "<tr>\n",
       "  <th>Omnibus:</th>       <td>1144961.527</td> <th>  Durbin-Watson:     </th>     <td>   2.002</td>    \n",
       "</tr>\n",
       "<tr>\n",
       "  <th>Prob(Omnibus):</th>   <td> 0.000</td>    <th>  Jarque-Bera (JB):  </th> <td>180045600009.331</td>\n",
       "</tr>\n",
       "<tr>\n",
       "  <th>Skew:</th>            <td>34.028</td>    <th>  Prob(JB):          </th>     <td>    0.00</td>    \n",
       "</tr>\n",
       "<tr>\n",
       "  <th>Kurtosis:</th>       <td>3221.003</td>   <th>  Cond. No.          </th>     <td>    3.74</td>    \n",
       "</tr>\n",
       "</table><br/><br/>Warnings:<br/>[1] Standard Errors assume that the covariance matrix of the errors is correctly specified."
      ],
      "text/plain": [
       "<class 'statsmodels.iolib.summary.Summary'>\n",
       "\"\"\"\n",
       "                            OLS Regression Results                            \n",
       "==============================================================================\n",
       "Dep. Variable:                  reach   R-squared:                       0.223\n",
       "Model:                            OLS   Adj. R-squared:                  0.223\n",
       "Method:                 Least Squares   F-statistic:                 3.981e+04\n",
       "Date:                Fri, 08 Mar 2019   Prob (F-statistic):               0.00\n",
       "Time:                        09:23:13   Log-Likelihood:            -4.8409e+06\n",
       "No. Observations:              417087   AIC:                         9.682e+06\n",
       "Df Residuals:                  417083   BIC:                         9.682e+06\n",
       "Df Model:                           3                                         \n",
       "Covariance Type:            nonrobust                                         \n",
       "==============================================================================\n",
       "                 coef    std err          t      P>|t|      [0.025      0.975]\n",
       "------------------------------------------------------------------------------\n",
       "Intercept    1.02e+04     41.143    247.997      0.000    1.01e+04    1.03e+04\n",
       "followers   1952.3737     66.437     29.387      0.000    1822.160    2082.587\n",
       "likes       1.332e+04     80.752    164.975      0.000    1.32e+04    1.35e+04\n",
       "comments   -1029.0807     57.269    -17.969      0.000   -1141.326    -916.835\n",
       "==============================================================================\n",
       "Omnibus:                  1144961.527   Durbin-Watson:                   2.002\n",
       "Prob(Omnibus):                  0.000   Jarque-Bera (JB):     180045600009.331\n",
       "Skew:                          34.028   Prob(JB):                         0.00\n",
       "Kurtosis:                    3221.003   Cond. No.                         3.74\n",
       "==============================================================================\n",
       "\n",
       "Warnings:\n",
       "[1] Standard Errors assume that the covariance matrix of the errors is correctly specified.\n",
       "\"\"\""
      ]
     },
     "execution_count": 17,
     "metadata": {},
     "output_type": "execute_result"
    }
   ],
   "source": [
    "# take a look at the summary\n",
    "lr_model_2 = ols(formula='reach~followers + likes + comments', data=data_scaled).fit()\n",
    "lr_model_2.summary()"
   ]
  },
  {
   "cell_type": "code",
   "execution_count": 18,
   "metadata": {},
   "outputs": [],
   "source": [
    "# create a new column in the data frame that has the reach for the test  \n",
    "data_scaled[\"test_reach\"] = lr_model_2.predict(data_scaled)"
   ]
  },
  {
   "cell_type": "markdown",
   "metadata": {},
   "source": [
    "### Observe the RSME of the scaled data"
   ]
  },
  {
   "cell_type": "code",
   "execution_count": 19,
   "metadata": {},
   "outputs": [
    {
     "data": {
      "text/plain": [
       "26570.740295289517"
      ]
     },
     "execution_count": 19,
     "metadata": {},
     "output_type": "execute_result"
    }
   ],
   "source": [
    "mean_squared_error(data_scaled.test_reach, data_scaled.reach)**.5"
   ]
  },
  {
   "cell_type": "code",
   "execution_count": 20,
   "metadata": {},
   "outputs": [
    {
     "data": {
      "text/plain": [
       "212332233.17978022"
      ]
     },
     "execution_count": 20,
     "metadata": {},
     "output_type": "execute_result"
    }
   ],
   "source": [
    "scaled_test = lr_model_2.predict(test)\n",
    "mean_squared_error(scaled_test, test.reach)**.5"
   ]
  },
  {
   "cell_type": "code",
   "execution_count": 21,
   "metadata": {
    "scrolled": true
   },
   "outputs": [
    {
     "data": {
      "text/html": [
       "<div>\n",
       "<style scoped>\n",
       "    .dataframe tbody tr th:only-of-type {\n",
       "        vertical-align: middle;\n",
       "    }\n",
       "\n",
       "    .dataframe tbody tr th {\n",
       "        vertical-align: top;\n",
       "    }\n",
       "\n",
       "    .dataframe thead th {\n",
       "        text-align: right;\n",
       "    }\n",
       "</style>\n",
       "<table border=\"1\" class=\"dataframe\">\n",
       "  <thead>\n",
       "    <tr style=\"text-align: right;\">\n",
       "      <th></th>\n",
       "      <th>followers</th>\n",
       "      <th>comments</th>\n",
       "      <th>likes</th>\n",
       "      <th>reach</th>\n",
       "      <th>test_reach</th>\n",
       "    </tr>\n",
       "  </thead>\n",
       "  <tbody>\n",
       "    <tr>\n",
       "      <th>387545</th>\n",
       "      <td>-0.416221</td>\n",
       "      <td>-1.468022</td>\n",
       "      <td>-1.099141</td>\n",
       "      <td>1182</td>\n",
       "      <td>-3741.511210</td>\n",
       "    </tr>\n",
       "    <tr>\n",
       "      <th>564763</th>\n",
       "      <td>0.007307</td>\n",
       "      <td>1.307657</td>\n",
       "      <td>0.103876</td>\n",
       "      <td>2580</td>\n",
       "      <td>10255.689738</td>\n",
       "    </tr>\n",
       "    <tr>\n",
       "      <th>346329</th>\n",
       "      <td>0.839226</td>\n",
       "      <td>0.333897</td>\n",
       "      <td>0.127473</td>\n",
       "      <td>3515</td>\n",
       "      <td>13196.337575</td>\n",
       "    </tr>\n",
       "    <tr>\n",
       "      <th>91505</th>\n",
       "      <td>0.726732</td>\n",
       "      <td>0.309729</td>\n",
       "      <td>1.501441</td>\n",
       "      <td>19412</td>\n",
       "      <td>31305.718864</td>\n",
       "    </tr>\n",
       "    <tr>\n",
       "      <th>479551</th>\n",
       "      <td>-0.607697</td>\n",
       "      <td>-1.079168</td>\n",
       "      <td>-0.798960</td>\n",
       "      <td>835</td>\n",
       "      <td>-516.475927</td>\n",
       "    </tr>\n",
       "  </tbody>\n",
       "</table>\n",
       "</div>"
      ],
      "text/plain": [
       "        followers  comments     likes  reach    test_reach\n",
       "387545  -0.416221 -1.468022 -1.099141   1182  -3741.511210\n",
       "564763   0.007307  1.307657  0.103876   2580  10255.689738\n",
       "346329   0.839226  0.333897  0.127473   3515  13196.337575\n",
       "91505    0.726732  0.309729  1.501441  19412  31305.718864\n",
       "479551  -0.607697 -1.079168 -0.798960    835   -516.475927"
      ]
     },
     "execution_count": 21,
     "metadata": {},
     "output_type": "execute_result"
    }
   ],
   "source": [
    "data_scaled.head(5)"
   ]
  },
  {
   "cell_type": "markdown",
   "metadata": {},
   "source": [
    "# Summary\n",
    "\n",
    "Even after doing a log transform the $R^2$ was just above 21% and the RMSE was over 27,000 on our training data. For our test data, the RMSE was over 100,000(log transform) on the first model with our test dataset and over 200,000 on our second model(log transform and scaled). We conclude that we must do some further analysis on the data. In our next trial, we will see the effects of a curvilinear regression."
   ]
  }
 ],
 "metadata": {
  "kernelspec": {
   "display_name": "Python 3",
   "language": "python",
   "name": "python3"
  },
  "language_info": {
   "codemirror_mode": {
    "name": "ipython",
    "version": 3
   },
   "file_extension": ".py",
   "mimetype": "text/x-python",
   "name": "python",
   "nbconvert_exporter": "python",
   "pygments_lexer": "ipython3",
   "version": "3.7.1"
  }
 },
 "nbformat": 4,
 "nbformat_minor": 2
}
