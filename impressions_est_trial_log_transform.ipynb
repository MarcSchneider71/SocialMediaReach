{
 "cells": [
  {
   "cell_type": "markdown",
   "metadata": {},
   "source": [
    "# True Reach Estimator\n",
    "We are looking to build an estimator around instagram users true reach and impressions. This data is accessible through the business api but in Q1 2018 Instagram blocked influencer marketing teams from this endpoint. We are able to collect a sample of this data to see if there working correlations between currently public data and true reach/impressions.\n",
    "\n",
    "Data: the CSV we have contains one year worth of data from 5,000 influencer level Instagram users.\n",
    "\n",
    "# The goal:\n",
    "Given the public data points create an accurate estimate of each posts reach and impressions. The ideal would be as accurate as possible, but a 10% range will work for the business."
   ]
  },
  {
   "cell_type": "markdown",
   "metadata": {},
   "source": [
    "## Trial 2 - Logarithmic Transformation and Scaling\n",
    "\n",
    "After an initial trial of exploring the data and cleaning it up. We decided to do a log transformation and scale the data.\n",
    "\n",
    "Process:\n",
    "- Import the data\n",
    "- Split the data into a test and training set\n",
    "- Observe the data once again before doing a transformation\n",
    "- Log transform the training set\n",
    "- Scale the data after the log transformation\n",
    "- Set conditions on the training data to eliminate outliers\n",
    "- Create a regression model on our variables to determine the effectiveness of the data so far \n",
    "- Use the regression model to check for accuracy in the prediction across the dataset\n",
    "- Summarize our findings and suggest next steps if unsucessful"
   ]
  },
  {
   "cell_type": "markdown",
   "metadata": {},
   "source": [
    "# Get the data into the notebook"
   ]
  },
  {
   "cell_type": "code",
   "execution_count": 1,
   "metadata": {},
   "outputs": [],
   "source": [
    "# import necessary libraries\n",
    "from sklearn.model_selection import cross_val_score\n",
    "from sklearn.model_selection import KFold\n",
    "from sklearn.metrics import mean_squared_error\n",
    "import pandas as pd\n",
    "import scipy.stats as stats\n",
    "import statsmodels.api as sm\n",
    "from statsmodels.formula.api import ols\n",
    "import matplotlib.pyplot as plt\n",
    "import seaborn as sns\n",
    "import bs4\n",
    "import requests\n",
    "import re\n",
    "import warnings\n",
    "warnings.filterwarnings(\"ignore\")\n",
    "\n",
    "plt.style.use('seaborn')"
   ]
  },
  {
   "cell_type": "code",
   "execution_count": 2,
   "metadata": {
    "scrolled": true
   },
   "outputs": [
    {
     "data": {
      "text/html": [
       "<div>\n",
       "<style scoped>\n",
       "    .dataframe tbody tr th:only-of-type {\n",
       "        vertical-align: middle;\n",
       "    }\n",
       "\n",
       "    .dataframe tbody tr th {\n",
       "        vertical-align: top;\n",
       "    }\n",
       "\n",
       "    .dataframe thead th {\n",
       "        text-align: right;\n",
       "    }\n",
       "</style>\n",
       "<table border=\"1\" class=\"dataframe\">\n",
       "  <thead>\n",
       "    <tr style=\"text-align: right;\">\n",
       "      <th></th>\n",
       "      <th>Unnamed: 0</th>\n",
       "      <th>followers</th>\n",
       "      <th>published</th>\n",
       "      <th>likes</th>\n",
       "      <th>comments</th>\n",
       "      <th>impressions</th>\n",
       "      <th>reach</th>\n",
       "    </tr>\n",
       "  </thead>\n",
       "  <tbody>\n",
       "    <tr>\n",
       "      <th>0</th>\n",
       "      <td>0</td>\n",
       "      <td>68172</td>\n",
       "      <td>2018-06-18T01:26:44.000+00:00</td>\n",
       "      <td>107</td>\n",
       "      <td>1</td>\n",
       "      <td>2301</td>\n",
       "      <td>1782</td>\n",
       "    </tr>\n",
       "    <tr>\n",
       "      <th>1</th>\n",
       "      <td>1</td>\n",
       "      <td>68172</td>\n",
       "      <td>2018-06-17T18:47:24.000+00:00</td>\n",
       "      <td>323</td>\n",
       "      <td>1</td>\n",
       "      <td>9563</td>\n",
       "      <td>8131</td>\n",
       "    </tr>\n",
       "    <tr>\n",
       "      <th>2</th>\n",
       "      <td>2</td>\n",
       "      <td>68223</td>\n",
       "      <td>2018-06-19T02:24:03.000+00:00</td>\n",
       "      <td>38</td>\n",
       "      <td>1</td>\n",
       "      <td>290</td>\n",
       "      <td>261</td>\n",
       "    </tr>\n",
       "    <tr>\n",
       "      <th>3</th>\n",
       "      <td>3</td>\n",
       "      <td>68223</td>\n",
       "      <td>2018-06-18T16:44:25.000+00:00</td>\n",
       "      <td>656</td>\n",
       "      <td>12</td>\n",
       "      <td>11360</td>\n",
       "      <td>9082</td>\n",
       "    </tr>\n",
       "    <tr>\n",
       "      <th>4</th>\n",
       "      <td>4</td>\n",
       "      <td>67812</td>\n",
       "      <td>2018-05-30T03:22:11.000+00:00</td>\n",
       "      <td>2044</td>\n",
       "      <td>26</td>\n",
       "      <td>100970</td>\n",
       "      <td>85215</td>\n",
       "    </tr>\n",
       "  </tbody>\n",
       "</table>\n",
       "</div>"
      ],
      "text/plain": [
       "   Unnamed: 0  followers                      published  likes  comments  \\\n",
       "0           0      68172  2018-06-18T01:26:44.000+00:00    107         1   \n",
       "1           1      68172  2018-06-17T18:47:24.000+00:00    323         1   \n",
       "2           2      68223  2018-06-19T02:24:03.000+00:00     38         1   \n",
       "3           3      68223  2018-06-18T16:44:25.000+00:00    656        12   \n",
       "4           4      67812  2018-05-30T03:22:11.000+00:00   2044        26   \n",
       "\n",
       "   impressions  reach  \n",
       "0         2301   1782  \n",
       "1         9563   8131  \n",
       "2          290    261  \n",
       "3        11360   9082  \n",
       "4       100970  85215  "
      ]
     },
     "execution_count": 2,
     "metadata": {},
     "output_type": "execute_result"
    }
   ],
   "source": [
    "# import the data file\n",
    "df = pd.read_csv('trial_1_2.csv')\n",
    "df.head()"
   ]
  },
  {
   "cell_type": "code",
   "execution_count": 3,
   "metadata": {
    "scrolled": false
   },
   "outputs": [
    {
     "data": {
      "text/plain": [
       "728018"
      ]
     },
     "execution_count": 3,
     "metadata": {},
     "output_type": "execute_result"
    }
   ],
   "source": [
    "# drop the first column which are just the indices and the columns we will not use in for the training\n",
    "df.drop(columns=['Unnamed: 0', \"published\", \"impressions\"], inplace=True)\n",
    "df.head()\n",
    "len(df)"
   ]
  },
  {
   "cell_type": "markdown",
   "metadata": {},
   "source": [
    "# Split the data into training and testing sets"
   ]
  },
  {
   "cell_type": "code",
   "execution_count": 4,
   "metadata": {},
   "outputs": [],
   "source": [
    "from sklearn.model_selection import train_test_split\n",
    "df, test = train_test_split(df, test_size=0.2)"
   ]
  },
  {
   "cell_type": "markdown",
   "metadata": {},
   "source": [
    "# Visualize the data once more"
   ]
  },
  {
   "cell_type": "markdown",
   "metadata": {},
   "source": [
    "Take a look at the scatter plots of the likes, comments, and followers against the reach"
   ]
  },
  {
   "cell_type": "code",
   "execution_count": 5,
   "metadata": {},
   "outputs": [
    {
     "data": {
      "image/png": "[encoded data removed]",
      "text/plain": [
       "<Figure size 720x432 with 1 Axes>"
      ]
     },
     "metadata": {
      "needs_background": "light"
     },
     "output_type": "display_data"
    }
   ],
   "source": [
    "plt.figure(figsize=(10,6))\n",
    "plt.scatter(df.likes, df.reach,  color='blue', alpha = 0.3)\n",
    "plt.show()"
   ]
  },
  {
   "cell_type": "code",
   "execution_count": 6,
   "metadata": {
    "scrolled": true
   },
   "outputs": [
    {
     "data": {
      "image/png": "[encoded data removed]",
      "text/plain": [
       "<Figure size 720x432 with 1 Axes>"
      ]
     },
     "metadata": {
      "needs_background": "light"
     },
     "output_type": "display_data"
    }
   ],
   "source": [
    "plt.figure(figsize=(10,6))\n",
    "plt.scatter(df.comments, df.reach,  color='red', alpha = 0.3)\n",
    "plt.show()"
   ]
  },
  {
   "cell_type": "code",
   "execution_count": 7,
   "metadata": {
    "scrolled": false
   },
   "outputs": [
    {
     "data": {
      "image/png": "[encoded data removed]",
      "text/plain": [
       "<Figure size 720x432 with 1 Axes>"
      ]
     },
     "metadata": {
      "needs_background": "light"
     },
     "output_type": "display_data"
    }
   ],
   "source": [
    "plt.figure(figsize=(10,6))\n",
    "plt.scatter(x=df.followers, y=df.reach,  color='orange', alpha = 0.3)\n",
    "plt.show()"
   ]
  },
  {
   "cell_type": "markdown",
   "metadata": {},
   "source": [
    "## A few observations\n",
    "- We seem to have a semi linear relationship between likes and reach, but heteroscedastic\n",
    "- We seem to have a curvilinear relationship between comments and reach \n",
    "- We seem to have some weird things happening with followers and reach."
   ]
  },
  {
   "cell_type": "markdown",
   "metadata": {},
   "source": [
    "# Looking at the histograms prior to transformation"
   ]
  },
  {
   "cell_type": "markdown",
   "metadata": {},
   "source": [
    "We take a look at the histograms of the independent variables we are interested in to determine which should be transformed to have a more normal distribution. We will log the features to see how it affects the distribution"
   ]
  },
  {
   "cell_type": "code",
   "execution_count": 8,
   "metadata": {
    "scrolled": false
   },
   "outputs": [
    {
     "data": {
      "text/plain": [
       "array([[<matplotlib.axes._subplots.AxesSubplot object at 0x1c21aeffd0>,\n",
       "        <matplotlib.axes._subplots.AxesSubplot object at 0x1c21b31518>],\n",
       "       [<matplotlib.axes._subplots.AxesSubplot object at 0x1c21b58e80>,\n",
       "        <matplotlib.axes._subplots.AxesSubplot object at 0x1c21b84828>]],\n",
       "      dtype=object)"
      ]
     },
     "execution_count": 8,
     "metadata": {},
     "output_type": "execute_result"
    },
    {
     "data": {
      "image/png": "[encoded data removed]",
      "text/plain": [
       "<Figure size 720x720 with 4 Axes>"
      ]
     },
     "metadata": {
      "needs_background": "light"
     },
     "output_type": "display_data"
    }
   ],
   "source": [
    "df.hist(figsize=[10,10])"
   ]
  },
  {
   "cell_type": "markdown",
   "metadata": {},
   "source": [
    "It seems like it the data can benefit from a log transform."
   ]
  },
  {
   "cell_type": "markdown",
   "metadata": {},
   "source": [
    "# Clean data"
   ]
  },
  {
   "cell_type": "markdown",
   "metadata": {},
   "source": [
    "We need to get rid of zero likes, comments, and followers in order to avoid divide by zero errors when transforming and scaling."
   ]
  },
  {
   "cell_type": "code",
   "execution_count": 9,
   "metadata": {
    "scrolled": false
   },
   "outputs": [
    {
     "name": "stdout",
     "output_type": "stream",
     "text": [
      "        followers  likes  comments  reach\n",
      "434030        447     40         3     68\n",
      "504008          0   1314        23   4775\n",
      "394867       2519     28         1    292\n",
      "890         40064    856         4  11296\n",
      "356445      36677   3871       221  27705\n"
     ]
    },
    {
     "data": {
      "text/plain": [
       "582346"
      ]
     },
     "execution_count": 9,
     "metadata": {},
     "output_type": "execute_result"
    }
   ],
   "source": [
    "# drop anyone that has no reach\n",
    "df = df.loc[(df['reach']>=1)]\n",
    "print(df.head())\n",
    "len(df)"
   ]
  },
  {
   "cell_type": "markdown",
   "metadata": {},
   "source": [
    "We just cut 85 post from our data, which is less than 1% of our original data. Let's continue cutting out some of the things we know are weird like having 0 likes yet having a reach or having 0 followers and having a reach."
   ]
  },
  {
   "cell_type": "code",
   "execution_count": 10,
   "metadata": {
    "scrolled": false
   },
   "outputs": [
    {
     "name": "stdout",
     "output_type": "stream",
     "text": [
      "        followers  likes  comments  reach\n",
      "434030        447     40         3     68\n",
      "394867       2519     28         1    292\n",
      "890         40064    856         4  11296\n",
      "356445      36677   3871       221  27705\n",
      "193220       3106    224        30   1193\n"
     ]
    },
    {
     "data": {
      "text/plain": [
       "431431"
      ]
     },
     "execution_count": 10,
     "metadata": {},
     "output_type": "execute_result"
    }
   ],
   "source": [
    "df = df[(df['likes']>=1)]\n",
    "df = df[(df['followers']>=1)]\n",
    "print(df.head())\n",
    "len(df)"
   ]
  },
  {
   "cell_type": "markdown",
   "metadata": {},
   "source": [
    "We just cut 189165 posts from our data, so we have just cut about 25% of our original data, worth of bad data. Let's see how cutting comments less than 1 affects the data."
   ]
  },
  {
   "cell_type": "code",
   "execution_count": 11,
   "metadata": {
    "scrolled": false
   },
   "outputs": [
    {
     "name": "stdout",
     "output_type": "stream",
     "text": [
      "        followers  likes  comments  reach\n",
      "434030        447     40         3     68\n",
      "394867       2519     28         1    292\n",
      "890         40064    856         4  11296\n",
      "356445      36677   3871       221  27705\n",
      "193220       3106    224        30   1193\n"
     ]
    },
    {
     "data": {
      "text/plain": [
       "417496"
      ]
     },
     "execution_count": 11,
     "metadata": {},
     "output_type": "execute_result"
    }
   ],
   "source": [
    "df = df[(df['comments']>=1)]\n",
    "print(df.head())\n",
    "len(df)"
   ]
  },
  {
   "cell_type": "markdown",
   "metadata": {},
   "source": [
    "# Transforming the Likes, Comments, and Followers"
   ]
  },
  {
   "cell_type": "markdown",
   "metadata": {},
   "source": [
    "Create a new dataframe with the logarithmic transformation"
   ]
  },
  {
   "cell_type": "code",
   "execution_count": 12,
   "metadata": {
    "scrolled": false
   },
   "outputs": [
    {
     "data": {
      "text/plain": [
       "array([[<matplotlib.axes._subplots.AxesSubplot object at 0x1c226a5978>,\n",
       "        <matplotlib.axes._subplots.AxesSubplot object at 0x1c22675f28>],\n",
       "       [<matplotlib.axes._subplots.AxesSubplot object at 0x1c2597cf60>,\n",
       "        <matplotlib.axes._subplots.AxesSubplot object at 0x1c25928908>]],\n",
       "      dtype=object)"
      ]
     },
     "execution_count": 12,
     "metadata": {},
     "output_type": "execute_result"
    },
    {
     "data": {
      "image/png": "[encoded data removed]",
      "text/plain": [
       "<Figure size 720x720 with 4 Axes>"
      ]
     },
     "metadata": {
      "needs_background": "light"
     },
     "output_type": "display_data"
    }
   ],
   "source": [
    "import numpy as np\n",
    "data_log = pd.DataFrame([])\n",
    "data_log[\"followers\"] = np.log(df[\"followers\"])\n",
    "data_log[\"comments\"] = np.log(df[\"comments\"])\n",
    "data_log[\"likes\"] = np.log(df[\"likes\"])\n",
    "data_log[\"reach\"] = df[\"reach\"]\n",
    "data_log.hist(figsize=[10,10])"
   ]
  },
  {
   "cell_type": "markdown",
   "metadata": {},
   "source": [
    "## A few observations\n",
    "- Logging the features seem to have normalize the distribution of the features a bit.\n",
    "- Likes seem to benefit the most from the transformation being more normal, while comments skewed to the right, and followers are skewed to the left."
   ]
  },
  {
   "cell_type": "markdown",
   "metadata": {},
   "source": [
    "We scaled the the logarithmic transformation and plot the histograms to see if that makes a difference."
   ]
  },
  {
   "cell_type": "code",
   "execution_count": 13,
   "metadata": {
    "scrolled": false
   },
   "outputs": [
    {
     "data": {
      "image/png": "[encoded data removed]",
      "text/plain": [
       "<Figure size 720x720 with 4 Axes>"
      ]
     },
     "metadata": {
      "needs_background": "light"
     },
     "output_type": "display_data"
    }
   ],
   "source": [
    "# # Standardization\n",
    "scaled_fol = (data_log[\"followers\"]-np.mean(data_log[\"followers\"]))/np.sqrt(np.var(data_log[\"followers\"]))\n",
    "# # Standardization\n",
    "scaled_com = (data_log[\"comments\"]-np.mean(data_log[\"comments\"]))/np.sqrt(np.var(data_log[\"comments\"]))\n",
    "# # Standardization\n",
    "scaled_like = (data_log[\"likes\"]-np.mean(data_log[\"likes\"]))/np.sqrt(np.var(data_log[\"likes\"]))\n",
    "# scaled_reach = (data_log[\"reach\"]-np.mean(data_log[\"reach\"]))/np.sqrt(np.var(data_log[\"reach\"]))\n",
    "\n",
    "\n",
    "data_scaled = pd.DataFrame([])\n",
    "data_scaled[\"followers\"] = scaled_fol\n",
    "data_scaled[\"comments\"] = scaled_com\n",
    "data_scaled[\"likes\"] = scaled_like\n",
    "data_scaled[\"reach\"] = df.reach.copy()\n",
    "\n",
    "data_scaled.hist(figsize  = [10, 10]);"
   ]
  },
  {
   "cell_type": "code",
   "execution_count": 14,
   "metadata": {},
   "outputs": [
    {
     "data": {
      "text/html": [
       "<div>\n",
       "<style scoped>\n",
       "    .dataframe tbody tr th:only-of-type {\n",
       "        vertical-align: middle;\n",
       "    }\n",
       "\n",
       "    .dataframe tbody tr th {\n",
       "        vertical-align: top;\n",
       "    }\n",
       "\n",
       "    .dataframe thead th {\n",
       "        text-align: right;\n",
       "    }\n",
       "</style>\n",
       "<table border=\"1\" class=\"dataframe\">\n",
       "  <thead>\n",
       "    <tr style=\"text-align: right;\">\n",
       "      <th></th>\n",
       "      <th>followers</th>\n",
       "      <th>comments</th>\n",
       "      <th>likes</th>\n",
       "      <th>reach</th>\n",
       "    </tr>\n",
       "  </thead>\n",
       "  <tbody>\n",
       "    <tr>\n",
       "      <th>434030</th>\n",
       "      <td>-2.390281</td>\n",
       "      <td>-1.466000</td>\n",
       "      <td>-1.959099</td>\n",
       "      <td>68</td>\n",
       "    </tr>\n",
       "    <tr>\n",
       "      <th>394867</th>\n",
       "      <td>-1.253675</td>\n",
       "      <td>-2.301335</td>\n",
       "      <td>-2.230246</td>\n",
       "      <td>292</td>\n",
       "    </tr>\n",
       "    <tr>\n",
       "      <th>890</th>\n",
       "      <td>0.564974</td>\n",
       "      <td>-1.247260</td>\n",
       "      <td>0.369712</td>\n",
       "      <td>11296</td>\n",
       "    </tr>\n",
       "    <tr>\n",
       "      <th>356445</th>\n",
       "      <td>0.506911</td>\n",
       "      <td>1.803181</td>\n",
       "      <td>1.516862</td>\n",
       "      <td>27705</td>\n",
       "    </tr>\n",
       "    <tr>\n",
       "      <th>193220</th>\n",
       "      <td>-1.115977</td>\n",
       "      <td>0.284780</td>\n",
       "      <td>-0.649440</td>\n",
       "      <td>1193</td>\n",
       "    </tr>\n",
       "  </tbody>\n",
       "</table>\n",
       "</div>"
      ],
      "text/plain": [
       "        followers  comments     likes  reach\n",
       "434030  -2.390281 -1.466000 -1.959099     68\n",
       "394867  -1.253675 -2.301335 -2.230246    292\n",
       "890      0.564974 -1.247260  0.369712  11296\n",
       "356445   0.506911  1.803181  1.516862  27705\n",
       "193220  -1.115977  0.284780 -0.649440   1193"
      ]
     },
     "execution_count": 14,
     "metadata": {},
     "output_type": "execute_result"
    }
   ],
   "source": [
    "data_scaled.head()"
   ]
  },
  {
   "cell_type": "markdown",
   "metadata": {},
   "source": [
    "The histograms are look the same but the scales are just different. Since we are doing a linear regression, we do not need to scale."
   ]
  },
  {
   "cell_type": "markdown",
   "metadata": {},
   "source": [
    "# Creating our models"
   ]
  },
  {
   "cell_type": "markdown",
   "metadata": {},
   "source": [
    "First lets take a look at the ols summary of the log transform"
   ]
  },
  {
   "cell_type": "code",
   "execution_count": 15,
   "metadata": {},
   "outputs": [
    {
     "data": {
      "text/html": [
       "<table class=\"simpletable\">\n",
       "<caption>OLS Regression Results</caption>\n",
       "<tr>\n",
       "  <th>Dep. Variable:</th>          <td>reach</td>      <th>  R-squared:         </th>  <td>   0.211</td>  \n",
       "</tr>\n",
       "<tr>\n",
       "  <th>Model:</th>                   <td>OLS</td>       <th>  Adj. R-squared:    </th>  <td>   0.211</td>  \n",
       "</tr>\n",
       "<tr>\n",
       "  <th>Method:</th>             <td>Least Squares</td>  <th>  F-statistic:       </th>  <td>3.721e+04</td> \n",
       "</tr>\n",
       "<tr>\n",
       "  <th>Date:</th>             <td>Fri, 08 Mar 2019</td> <th>  Prob (F-statistic):</th>   <td>  0.00</td>   \n",
       "</tr>\n",
       "<tr>\n",
       "  <th>Time:</th>                 <td>13:47:20</td>     <th>  Log-Likelihood:    </th> <td>-4.8621e+06</td>\n",
       "</tr>\n",
       "<tr>\n",
       "  <th>No. Observations:</th>      <td>417496</td>      <th>  AIC:               </th>  <td>9.724e+06</td> \n",
       "</tr>\n",
       "<tr>\n",
       "  <th>Df Residuals:</th>          <td>417492</td>      <th>  BIC:               </th>  <td>9.724e+06</td> \n",
       "</tr>\n",
       "<tr>\n",
       "  <th>Df Model:</th>              <td>     3</td>      <th>                     </th>      <td> </td>     \n",
       "</tr>\n",
       "<tr>\n",
       "  <th>Covariance Type:</th>      <td>nonrobust</td>    <th>                     </th>      <td> </td>     \n",
       "</tr>\n",
       "</table>\n",
       "<table class=\"simpletable\">\n",
       "<tr>\n",
       "      <td></td>         <th>coef</th>     <th>std err</th>      <th>t</th>      <th>P>|t|</th>  <th>[0.025</th>    <th>0.975]</th>  \n",
       "</tr>\n",
       "<tr>\n",
       "  <th>Intercept</th> <td>-6.342e+04</td> <td>  279.337</td> <td> -227.042</td> <td> 0.000</td> <td> -6.4e+04</td> <td>-6.29e+04</td>\n",
       "</tr>\n",
       "<tr>\n",
       "  <th>followers</th> <td> 1192.1913</td> <td>   45.363</td> <td>   26.281</td> <td> 0.000</td> <td> 1103.281</td> <td> 1281.101</td>\n",
       "</tr>\n",
       "<tr>\n",
       "  <th>likes</th>     <td>  1.03e+04</td> <td>   63.781</td> <td>  161.516</td> <td> 0.000</td> <td> 1.02e+04</td> <td> 1.04e+04</td>\n",
       "</tr>\n",
       "<tr>\n",
       "  <th>comments</th>  <td> -831.4131</td> <td>   45.297</td> <td>  -18.355</td> <td> 0.000</td> <td> -920.194</td> <td> -742.633</td>\n",
       "</tr>\n",
       "</table>\n",
       "<table class=\"simpletable\">\n",
       "<tr>\n",
       "  <th>Omnibus:</th>       <td>1233637.921</td> <th>  Durbin-Watson:     </th>     <td>   2.001</td>    \n",
       "</tr>\n",
       "<tr>\n",
       "  <th>Prob(Omnibus):</th>   <td> 0.000</td>    <th>  Jarque-Bera (JB):  </th> <td>364296069627.770</td>\n",
       "</tr>\n",
       "<tr>\n",
       "  <th>Skew:</th>            <td>41.501</td>    <th>  Prob(JB):          </th>     <td>    0.00</td>    \n",
       "</tr>\n",
       "<tr>\n",
       "  <th>Kurtosis:</th>       <td>4578.465</td>   <th>  Cond. No.          </th>     <td>    80.0</td>    \n",
       "</tr>\n",
       "</table><br/><br/>Warnings:<br/>[1] Standard Errors assume that the covariance matrix of the errors is correctly specified."
      ],
      "text/plain": [
       "<class 'statsmodels.iolib.summary.Summary'>\n",
       "\"\"\"\n",
       "                            OLS Regression Results                            \n",
       "==============================================================================\n",
       "Dep. Variable:                  reach   R-squared:                       0.211\n",
       "Model:                            OLS   Adj. R-squared:                  0.211\n",
       "Method:                 Least Squares   F-statistic:                 3.721e+04\n",
       "Date:                Fri, 08 Mar 2019   Prob (F-statistic):               0.00\n",
       "Time:                        13:47:20   Log-Likelihood:            -4.8621e+06\n",
       "No. Observations:              417496   AIC:                         9.724e+06\n",
       "Df Residuals:                  417492   BIC:                         9.724e+06\n",
       "Df Model:                           3                                         \n",
       "Covariance Type:            nonrobust                                         \n",
       "==============================================================================\n",
       "                 coef    std err          t      P>|t|      [0.025      0.975]\n",
       "------------------------------------------------------------------------------\n",
       "Intercept  -6.342e+04    279.337   -227.042      0.000    -6.4e+04   -6.29e+04\n",
       "followers   1192.1913     45.363     26.281      0.000    1103.281    1281.101\n",
       "likes        1.03e+04     63.781    161.516      0.000    1.02e+04    1.04e+04\n",
       "comments    -831.4131     45.297    -18.355      0.000    -920.194    -742.633\n",
       "==============================================================================\n",
       "Omnibus:                  1233637.921   Durbin-Watson:                   2.001\n",
       "Prob(Omnibus):                  0.000   Jarque-Bera (JB):     364296069627.770\n",
       "Skew:                          41.501   Prob(JB):                         0.00\n",
       "Kurtosis:                    4578.465   Cond. No.                         80.0\n",
       "==============================================================================\n",
       "\n",
       "Warnings:\n",
       "[1] Standard Errors assume that the covariance matrix of the errors is correctly specified.\n",
       "\"\"\""
      ]
     },
     "execution_count": 15,
     "metadata": {},
     "output_type": "execute_result"
    }
   ],
   "source": [
    "# take a stab at the ols model with the data that was log tansform\n",
    "lr_model = ols(formula='reach~followers + likes + comments', data=data_log).fit()\n",
    "lr_model.summary()"
   ]
  },
  {
   "cell_type": "markdown",
   "metadata": {},
   "source": [
    "Using the coefficients from the summary above we defined a test function that takes in unscaled inputs and scales them before running it through the function."
   ]
  },
  {
   "cell_type": "code",
   "execution_count": 16,
   "metadata": {},
   "outputs": [],
   "source": [
    "def reach_test_log(followers, likes, comments): \n",
    "    return (1282.759*np.log(followers)) + (1.013e+04*np.log(likes)) + (-783.3645*np.log(comments)) -6.341e04"
   ]
  },
  {
   "cell_type": "markdown",
   "metadata": {},
   "source": [
    "But we can just use the ols built in predict function/method the run the data through "
   ]
  },
  {
   "cell_type": "code",
   "execution_count": 17,
   "metadata": {},
   "outputs": [],
   "source": [
    "# create a column  for the test reach and the reach difference\n",
    "data_log[\"test_reach\"] = lr_model.predict(data_log)\n",
    "data_log[\"reach_diff\"] = data_log.reach - data_log.test_reach"
   ]
  },
  {
   "cell_type": "code",
   "execution_count": 18,
   "metadata": {
    "scrolled": false
   },
   "outputs": [
    {
     "data": {
      "text/html": [
       "<div>\n",
       "<style scoped>\n",
       "    .dataframe tbody tr th:only-of-type {\n",
       "        vertical-align: middle;\n",
       "    }\n",
       "\n",
       "    .dataframe tbody tr th {\n",
       "        vertical-align: top;\n",
       "    }\n",
       "\n",
       "    .dataframe thead th {\n",
       "        text-align: right;\n",
       "    }\n",
       "</style>\n",
       "<table border=\"1\" class=\"dataframe\">\n",
       "  <thead>\n",
       "    <tr style=\"text-align: right;\">\n",
       "      <th></th>\n",
       "      <th>followers</th>\n",
       "      <th>comments</th>\n",
       "      <th>likes</th>\n",
       "      <th>reach</th>\n",
       "      <th>test_reach</th>\n",
       "      <th>reach_diff</th>\n",
       "    </tr>\n",
       "  </thead>\n",
       "  <tbody>\n",
       "    <tr>\n",
       "      <th>434030</th>\n",
       "      <td>6.102559</td>\n",
       "      <td>1.098612</td>\n",
       "      <td>3.688879</td>\n",
       "      <td>68</td>\n",
       "      <td>-19057.551961</td>\n",
       "      <td>19125.551961</td>\n",
       "    </tr>\n",
       "    <tr>\n",
       "      <th>394867</th>\n",
       "      <td>7.831617</td>\n",
       "      <td>0.000000</td>\n",
       "      <td>3.332205</td>\n",
       "      <td>292</td>\n",
       "      <td>-19757.147219</td>\n",
       "      <td>20049.147219</td>\n",
       "    </tr>\n",
       "    <tr>\n",
       "      <th>890</th>\n",
       "      <td>10.598233</td>\n",
       "      <td>1.386294</td>\n",
       "      <td>6.752270</td>\n",
       "      <td>11296</td>\n",
       "      <td>17621.158274</td>\n",
       "      <td>-6325.158274</td>\n",
       "    </tr>\n",
       "    <tr>\n",
       "      <th>356445</th>\n",
       "      <td>10.509905</td>\n",
       "      <td>5.398163</td>\n",
       "      <td>8.261268</td>\n",
       "      <td>27705</td>\n",
       "      <td>29725.603216</td>\n",
       "      <td>-2020.603216</td>\n",
       "    </tr>\n",
       "    <tr>\n",
       "      <th>193220</th>\n",
       "      <td>8.041091</td>\n",
       "      <td>3.401197</td>\n",
       "      <td>5.411646</td>\n",
       "      <td>1193</td>\n",
       "      <td>-913.394774</td>\n",
       "      <td>2106.394774</td>\n",
       "    </tr>\n",
       "  </tbody>\n",
       "</table>\n",
       "</div>"
      ],
      "text/plain": [
       "        followers  comments     likes  reach    test_reach    reach_diff\n",
       "434030   6.102559  1.098612  3.688879     68 -19057.551961  19125.551961\n",
       "394867   7.831617  0.000000  3.332205    292 -19757.147219  20049.147219\n",
       "890     10.598233  1.386294  6.752270  11296  17621.158274  -6325.158274\n",
       "356445  10.509905  5.398163  8.261268  27705  29725.603216  -2020.603216\n",
       "193220   8.041091  3.401197  5.411646   1193   -913.394774   2106.394774"
      ]
     },
     "execution_count": 18,
     "metadata": {},
     "output_type": "execute_result"
    }
   ],
   "source": [
    "data_log.head()"
   ]
  },
  {
   "cell_type": "markdown",
   "metadata": {},
   "source": [
    "### Observe the RSME of the log transforms"
   ]
  },
  {
   "cell_type": "code",
   "execution_count": 19,
   "metadata": {
    "scrolled": true
   },
   "outputs": [
    {
     "data": {
      "text/plain": [
       "27634.152951963537"
      ]
     },
     "execution_count": 19,
     "metadata": {},
     "output_type": "execute_result"
    }
   ],
   "source": [
    "# rsme of the training data\n",
    "mean_squared_error(data_log.test_reach, data_log.reach)**.5"
   ]
  },
  {
   "cell_type": "code",
   "execution_count": 20,
   "metadata": {},
   "outputs": [
    {
     "data": {
      "text/plain": [
       "131920710.41174623"
      ]
     },
     "execution_count": 20,
     "metadata": {},
     "output_type": "execute_result"
    }
   ],
   "source": [
    "# rsme of the test data\n",
    "test_reach = lr_model.predict(test)\n",
    "mean_squared_error(test_reach, test.reach)**.5"
   ]
  },
  {
   "cell_type": "markdown",
   "metadata": {},
   "source": [
    "Next lets take a look at the ols summary of the scaled data"
   ]
  },
  {
   "cell_type": "code",
   "execution_count": 21,
   "metadata": {
    "scrolled": false
   },
   "outputs": [
    {
     "data": {
      "text/html": [
       "<table class=\"simpletable\">\n",
       "<caption>OLS Regression Results</caption>\n",
       "<tr>\n",
       "  <th>Dep. Variable:</th>          <td>reach</td>      <th>  R-squared:         </th>  <td>   0.211</td>  \n",
       "</tr>\n",
       "<tr>\n",
       "  <th>Model:</th>                   <td>OLS</td>       <th>  Adj. R-squared:    </th>  <td>   0.211</td>  \n",
       "</tr>\n",
       "<tr>\n",
       "  <th>Method:</th>             <td>Least Squares</td>  <th>  F-statistic:       </th>  <td>3.721e+04</td> \n",
       "</tr>\n",
       "<tr>\n",
       "  <th>Date:</th>             <td>Fri, 08 Mar 2019</td> <th>  Prob (F-statistic):</th>   <td>  0.00</td>   \n",
       "</tr>\n",
       "<tr>\n",
       "  <th>Time:</th>                 <td>13:47:21</td>     <th>  Log-Likelihood:    </th> <td>-4.8621e+06</td>\n",
       "</tr>\n",
       "<tr>\n",
       "  <th>No. Observations:</th>      <td>417496</td>      <th>  AIC:               </th>  <td>9.724e+06</td> \n",
       "</tr>\n",
       "<tr>\n",
       "  <th>Df Residuals:</th>          <td>417492</td>      <th>  BIC:               </th>  <td>9.724e+06</td> \n",
       "</tr>\n",
       "<tr>\n",
       "  <th>Df Model:</th>              <td>     3</td>      <th>                     </th>      <td> </td>     \n",
       "</tr>\n",
       "<tr>\n",
       "  <th>Covariance Type:</th>      <td>nonrobust</td>    <th>                     </th>      <td> </td>     \n",
       "</tr>\n",
       "</table>\n",
       "<table class=\"simpletable\">\n",
       "<tr>\n",
       "      <td></td>         <th>coef</th>     <th>std err</th>      <th>t</th>      <th>P>|t|</th>  <th>[0.025</th>    <th>0.975]</th>  \n",
       "</tr>\n",
       "<tr>\n",
       "  <th>Intercept</th> <td> 1.022e+04</td> <td>   42.768</td> <td>  239.024</td> <td> 0.000</td> <td> 1.01e+04</td> <td> 1.03e+04</td>\n",
       "</tr>\n",
       "<tr>\n",
       "  <th>followers</th> <td> 1813.6184</td> <td>   69.008</td> <td>   26.281</td> <td> 0.000</td> <td> 1678.364</td> <td> 1948.873</td>\n",
       "</tr>\n",
       "<tr>\n",
       "  <th>likes</th>     <td> 1.355e+04</td> <td>   83.900</td> <td>  161.516</td> <td> 0.000</td> <td> 1.34e+04</td> <td> 1.37e+04</td>\n",
       "</tr>\n",
       "<tr>\n",
       "  <th>comments</th>  <td>-1093.4551</td> <td>   59.573</td> <td>  -18.355</td> <td> 0.000</td> <td>-1210.217</td> <td> -976.693</td>\n",
       "</tr>\n",
       "</table>\n",
       "<table class=\"simpletable\">\n",
       "<tr>\n",
       "  <th>Omnibus:</th>       <td>1233637.921</td> <th>  Durbin-Watson:     </th>     <td>   2.001</td>    \n",
       "</tr>\n",
       "<tr>\n",
       "  <th>Prob(Omnibus):</th>   <td> 0.000</td>    <th>  Jarque-Bera (JB):  </th> <td>364296069627.770</td>\n",
       "</tr>\n",
       "<tr>\n",
       "  <th>Skew:</th>            <td>41.501</td>    <th>  Prob(JB):          </th>     <td>    0.00</td>    \n",
       "</tr>\n",
       "<tr>\n",
       "  <th>Kurtosis:</th>       <td>4578.465</td>   <th>  Cond. No.          </th>     <td>    3.74</td>    \n",
       "</tr>\n",
       "</table><br/><br/>Warnings:<br/>[1] Standard Errors assume that the covariance matrix of the errors is correctly specified."
      ],
      "text/plain": [
       "<class 'statsmodels.iolib.summary.Summary'>\n",
       "\"\"\"\n",
       "                            OLS Regression Results                            \n",
       "==============================================================================\n",
       "Dep. Variable:                  reach   R-squared:                       0.211\n",
       "Model:                            OLS   Adj. R-squared:                  0.211\n",
       "Method:                 Least Squares   F-statistic:                 3.721e+04\n",
       "Date:                Fri, 08 Mar 2019   Prob (F-statistic):               0.00\n",
       "Time:                        13:47:21   Log-Likelihood:            -4.8621e+06\n",
       "No. Observations:              417496   AIC:                         9.724e+06\n",
       "Df Residuals:                  417492   BIC:                         9.724e+06\n",
       "Df Model:                           3                                         \n",
       "Covariance Type:            nonrobust                                         \n",
       "==============================================================================\n",
       "                 coef    std err          t      P>|t|      [0.025      0.975]\n",
       "------------------------------------------------------------------------------\n",
       "Intercept   1.022e+04     42.768    239.024      0.000    1.01e+04    1.03e+04\n",
       "followers   1813.6184     69.008     26.281      0.000    1678.364    1948.873\n",
       "likes       1.355e+04     83.900    161.516      0.000    1.34e+04    1.37e+04\n",
       "comments   -1093.4551     59.573    -18.355      0.000   -1210.217    -976.693\n",
       "==============================================================================\n",
       "Omnibus:                  1233637.921   Durbin-Watson:                   2.001\n",
       "Prob(Omnibus):                  0.000   Jarque-Bera (JB):     364296069627.770\n",
       "Skew:                          41.501   Prob(JB):                         0.00\n",
       "Kurtosis:                    4578.465   Cond. No.                         3.74\n",
       "==============================================================================\n",
       "\n",
       "Warnings:\n",
       "[1] Standard Errors assume that the covariance matrix of the errors is correctly specified.\n",
       "\"\"\""
      ]
     },
     "execution_count": 21,
     "metadata": {},
     "output_type": "execute_result"
    }
   ],
   "source": [
    "# take a look at the summary\n",
    "lr_model_2 = ols(formula='reach~followers + likes + comments', data=data_scaled).fit()\n",
    "lr_model_2.summary()"
   ]
  },
  {
   "cell_type": "code",
   "execution_count": 22,
   "metadata": {},
   "outputs": [],
   "source": [
    "# create a new column in the data frame that has the reach for the test  \n",
    "data_scaled[\"test_reach\"] = lr_model_2.predict(data_scaled)"
   ]
  },
  {
   "cell_type": "markdown",
   "metadata": {},
   "source": [
    "### Observe the RSME of the scaled data"
   ]
  },
  {
   "cell_type": "code",
   "execution_count": 23,
   "metadata": {},
   "outputs": [
    {
     "data": {
      "text/plain": [
       "27634.152951963537"
      ]
     },
     "execution_count": 23,
     "metadata": {},
     "output_type": "execute_result"
    }
   ],
   "source": [
    "mean_squared_error(data_scaled.test_reach, data_scaled.reach)**.5"
   ]
  },
  {
   "cell_type": "code",
   "execution_count": 24,
   "metadata": {},
   "outputs": [
    {
     "data": {
      "text/plain": [
       "195877618.76113823"
      ]
     },
     "execution_count": 24,
     "metadata": {},
     "output_type": "execute_result"
    }
   ],
   "source": [
    "scaled_test = lr_model_2.predict(test)\n",
    "mean_squared_error(scaled_test, test.reach)**.5"
   ]
  },
  {
   "cell_type": "code",
   "execution_count": 25,
   "metadata": {
    "scrolled": true
   },
   "outputs": [
    {
     "data": {
      "text/html": [
       "<div>\n",
       "<style scoped>\n",
       "    .dataframe tbody tr th:only-of-type {\n",
       "        vertical-align: middle;\n",
       "    }\n",
       "\n",
       "    .dataframe tbody tr th {\n",
       "        vertical-align: top;\n",
       "    }\n",
       "\n",
       "    .dataframe thead th {\n",
       "        text-align: right;\n",
       "    }\n",
       "</style>\n",
       "<table border=\"1\" class=\"dataframe\">\n",
       "  <thead>\n",
       "    <tr style=\"text-align: right;\">\n",
       "      <th></th>\n",
       "      <th>followers</th>\n",
       "      <th>comments</th>\n",
       "      <th>likes</th>\n",
       "      <th>reach</th>\n",
       "      <th>test_reach</th>\n",
       "    </tr>\n",
       "  </thead>\n",
       "  <tbody>\n",
       "    <tr>\n",
       "      <th>434030</th>\n",
       "      <td>-2.390281</td>\n",
       "      <td>-1.466000</td>\n",
       "      <td>-1.959099</td>\n",
       "      <td>68</td>\n",
       "      <td>-19057.551961</td>\n",
       "    </tr>\n",
       "    <tr>\n",
       "      <th>394867</th>\n",
       "      <td>-1.253675</td>\n",
       "      <td>-2.301335</td>\n",
       "      <td>-2.230246</td>\n",
       "      <td>292</td>\n",
       "      <td>-19757.147219</td>\n",
       "    </tr>\n",
       "    <tr>\n",
       "      <th>890</th>\n",
       "      <td>0.564974</td>\n",
       "      <td>-1.247260</td>\n",
       "      <td>0.369712</td>\n",
       "      <td>11296</td>\n",
       "      <td>17621.158274</td>\n",
       "    </tr>\n",
       "    <tr>\n",
       "      <th>356445</th>\n",
       "      <td>0.506911</td>\n",
       "      <td>1.803181</td>\n",
       "      <td>1.516862</td>\n",
       "      <td>27705</td>\n",
       "      <td>29725.603216</td>\n",
       "    </tr>\n",
       "    <tr>\n",
       "      <th>193220</th>\n",
       "      <td>-1.115977</td>\n",
       "      <td>0.284780</td>\n",
       "      <td>-0.649440</td>\n",
       "      <td>1193</td>\n",
       "      <td>-913.394774</td>\n",
       "    </tr>\n",
       "  </tbody>\n",
       "</table>\n",
       "</div>"
      ],
      "text/plain": [
       "        followers  comments     likes  reach    test_reach\n",
       "434030  -2.390281 -1.466000 -1.959099     68 -19057.551961\n",
       "394867  -1.253675 -2.301335 -2.230246    292 -19757.147219\n",
       "890      0.564974 -1.247260  0.369712  11296  17621.158274\n",
       "356445   0.506911  1.803181  1.516862  27705  29725.603216\n",
       "193220  -1.115977  0.284780 -0.649440   1193   -913.394774"
      ]
     },
     "execution_count": 25,
     "metadata": {},
     "output_type": "execute_result"
    }
   ],
   "source": [
    "data_scaled.head(5)"
   ]
  },
  {
   "cell_type": "code",
   "execution_count": 26,
   "metadata": {},
   "outputs": [
    {
     "data": {
      "text/html": [
       "<div>\n",
       "<style scoped>\n",
       "    .dataframe tbody tr th:only-of-type {\n",
       "        vertical-align: middle;\n",
       "    }\n",
       "\n",
       "    .dataframe tbody tr th {\n",
       "        vertical-align: top;\n",
       "    }\n",
       "\n",
       "    .dataframe thead th {\n",
       "        text-align: right;\n",
       "    }\n",
       "</style>\n",
       "<table border=\"1\" class=\"dataframe\">\n",
       "  <thead>\n",
       "    <tr style=\"text-align: right;\">\n",
       "      <th></th>\n",
       "      <th>followers</th>\n",
       "      <th>likes</th>\n",
       "      <th>comments</th>\n",
       "      <th>reach</th>\n",
       "    </tr>\n",
       "  </thead>\n",
       "  <tbody>\n",
       "    <tr>\n",
       "      <th>104897</th>\n",
       "      <td>140047</td>\n",
       "      <td>4537</td>\n",
       "      <td>96</td>\n",
       "      <td>58748</td>\n",
       "    </tr>\n",
       "    <tr>\n",
       "      <th>566609</th>\n",
       "      <td>10866</td>\n",
       "      <td>163</td>\n",
       "      <td>13</td>\n",
       "      <td>1209</td>\n",
       "    </tr>\n",
       "    <tr>\n",
       "      <th>259613</th>\n",
       "      <td>0</td>\n",
       "      <td>1628</td>\n",
       "      <td>118</td>\n",
       "      <td>9690</td>\n",
       "    </tr>\n",
       "    <tr>\n",
       "      <th>453622</th>\n",
       "      <td>16898</td>\n",
       "      <td>854</td>\n",
       "      <td>9</td>\n",
       "      <td>1155</td>\n",
       "    </tr>\n",
       "    <tr>\n",
       "      <th>494111</th>\n",
       "      <td>0</td>\n",
       "      <td>2261</td>\n",
       "      <td>30</td>\n",
       "      <td>11884</td>\n",
       "    </tr>\n",
       "  </tbody>\n",
       "</table>\n",
       "</div>"
      ],
      "text/plain": [
       "        followers  likes  comments  reach\n",
       "104897     140047   4537        96  58748\n",
       "566609      10866    163        13   1209\n",
       "259613          0   1628       118   9690\n",
       "453622      16898    854         9   1155\n",
       "494111          0   2261        30  11884"
      ]
     },
     "execution_count": 26,
     "metadata": {},
     "output_type": "execute_result"
    }
   ],
   "source": [
    "test.head()"
   ]
  },
  {
   "cell_type": "code",
   "execution_count": 27,
   "metadata": {},
   "outputs": [],
   "source": [
    "test['test_reach'] = round(lr_model.predict(test),1)\n",
    "test['reach_diff'] = round(test['reach'] - test['test_reach'],1)"
   ]
  },
  {
   "cell_type": "markdown",
   "metadata": {},
   "source": [
    "# Summary\n",
    "\n",
    "Even after doing a log transform the $R^2$ was just above .21 and the RMSE was over 27,000 on our training data. For our test data, the RMSE was over 100,000(log transform) on the first model with our test dataset and over 200,000 on our second model(log transform and scaled). With such large RMSE we decided not to do an accuracy histogram. \n",
    "\n",
    "We conclude that we must do some further analysis on the data. In our next trial, we will see the effects of a curvilinear regression."
   ]
  }
 ],
 "metadata": {
  "kernelspec": {
   "display_name": "Python 3",
   "language": "python",
   "name": "python3"
  },
  "language_info": {
   "codemirror_mode": {
    "name": "ipython",
    "version": 3
   },
   "file_extension": ".py",
   "mimetype": "text/x-python",
   "name": "python",
   "nbconvert_exporter": "python",
   "pygments_lexer": "ipython3",
   "version": "3.7.1"
  }
 },
 "nbformat": 4,
 "nbformat_minor": 2
}
